{
 "cells": [
  {
   "cell_type": "code",
   "execution_count": 1,
   "metadata": {},
   "outputs": [],
   "source": [
    "import pandas as pd \n",
    "import numpy as np\n",
    "import matplotlib.pyplot as plt\n",
    "import seaborn as sns\n",
    "%matplotlib inline"
   ]
  },
  {
   "cell_type": "code",
   "execution_count": 2,
   "metadata": {},
   "outputs": [
    {
     "data": {
      "text/html": [
       "<div>\n",
       "<style scoped>\n",
       "    .dataframe tbody tr th:only-of-type {\n",
       "        vertical-align: middle;\n",
       "    }\n",
       "\n",
       "    .dataframe tbody tr th {\n",
       "        vertical-align: top;\n",
       "    }\n",
       "\n",
       "    .dataframe thead th {\n",
       "        text-align: right;\n",
       "    }\n",
       "</style>\n",
       "<table border=\"1\" class=\"dataframe\">\n",
       "  <thead>\n",
       "    <tr style=\"text-align: right;\">\n",
       "      <th></th>\n",
       "      <th>Unnamed: 0</th>\n",
       "      <th>Order</th>\n",
       "      <th>File_Type</th>\n",
       "      <th>SKU_number</th>\n",
       "      <th>MarketingType</th>\n",
       "      <th>ReleaseNumber</th>\n",
       "      <th>New_Release_Flag</th>\n",
       "      <th>StrengthFactor</th>\n",
       "      <th>PriceReg</th>\n",
       "      <th>ReleaseYear</th>\n",
       "      <th>ItemCount</th>\n",
       "      <th>LowUserPrice</th>\n",
       "      <th>LowNetPrice</th>\n",
       "      <th>SoldFlag</th>\n",
       "    </tr>\n",
       "  </thead>\n",
       "  <tbody>\n",
       "    <tr>\n",
       "      <th>0</th>\n",
       "      <td>52836</td>\n",
       "      <td>58868</td>\n",
       "      <td>Historical</td>\n",
       "      <td>266198</td>\n",
       "      <td>S</td>\n",
       "      <td>0</td>\n",
       "      <td>0</td>\n",
       "      <td>1255901</td>\n",
       "      <td>32.50</td>\n",
       "      <td>2004</td>\n",
       "      <td>26</td>\n",
       "      <td>27.57</td>\n",
       "      <td>10.99</td>\n",
       "      <td>0</td>\n",
       "    </tr>\n",
       "    <tr>\n",
       "      <th>1</th>\n",
       "      <td>73653</td>\n",
       "      <td>82447</td>\n",
       "      <td>Historical</td>\n",
       "      <td>2405151</td>\n",
       "      <td>S</td>\n",
       "      <td>0</td>\n",
       "      <td>0</td>\n",
       "      <td>208404</td>\n",
       "      <td>70.00</td>\n",
       "      <td>1988</td>\n",
       "      <td>21</td>\n",
       "      <td>15.99</td>\n",
       "      <td>40.02</td>\n",
       "      <td>1</td>\n",
       "    </tr>\n",
       "    <tr>\n",
       "      <th>2</th>\n",
       "      <td>30992</td>\n",
       "      <td>31672</td>\n",
       "      <td>Historical</td>\n",
       "      <td>528384</td>\n",
       "      <td>D</td>\n",
       "      <td>9</td>\n",
       "      <td>1</td>\n",
       "      <td>50339</td>\n",
       "      <td>324.95</td>\n",
       "      <td>2013</td>\n",
       "      <td>53</td>\n",
       "      <td>149.73</td>\n",
       "      <td>123.94</td>\n",
       "      <td>0</td>\n",
       "    </tr>\n",
       "    <tr>\n",
       "      <th>3</th>\n",
       "      <td>64361</td>\n",
       "      <td>71808</td>\n",
       "      <td>Historical</td>\n",
       "      <td>571691</td>\n",
       "      <td>S</td>\n",
       "      <td>4</td>\n",
       "      <td>1</td>\n",
       "      <td>1361255</td>\n",
       "      <td>39.95</td>\n",
       "      <td>2005</td>\n",
       "      <td>67</td>\n",
       "      <td>10.59</td>\n",
       "      <td>7.59</td>\n",
       "      <td>0</td>\n",
       "    </tr>\n",
       "    <tr>\n",
       "      <th>4</th>\n",
       "      <td>8985</td>\n",
       "      <td>9256</td>\n",
       "      <td>Historical</td>\n",
       "      <td>2363274</td>\n",
       "      <td>D</td>\n",
       "      <td>1</td>\n",
       "      <td>0</td>\n",
       "      <td>3760024</td>\n",
       "      <td>144.00</td>\n",
       "      <td>2004</td>\n",
       "      <td>13</td>\n",
       "      <td>43.94</td>\n",
       "      <td>33.99</td>\n",
       "      <td>0</td>\n",
       "    </tr>\n",
       "  </tbody>\n",
       "</table>\n",
       "</div>"
      ],
      "text/plain": [
       "   Unnamed: 0  Order   File_Type  SKU_number MarketingType  ReleaseNumber  \\\n",
       "0       52836  58868  Historical      266198             S              0   \n",
       "1       73653  82447  Historical     2405151             S              0   \n",
       "2       30992  31672  Historical      528384             D              9   \n",
       "3       64361  71808  Historical      571691             S              4   \n",
       "4        8985   9256  Historical     2363274             D              1   \n",
       "\n",
       "   New_Release_Flag  StrengthFactor  PriceReg  ReleaseYear  ItemCount  \\\n",
       "0                 0         1255901     32.50         2004         26   \n",
       "1                 0          208404     70.00         1988         21   \n",
       "2                 1           50339    324.95         2013         53   \n",
       "3                 1         1361255     39.95         2005         67   \n",
       "4                 0         3760024    144.00         2004         13   \n",
       "\n",
       "   LowUserPrice  LowNetPrice  SoldFlag  \n",
       "0         27.57        10.99         0  \n",
       "1         15.99        40.02         1  \n",
       "2        149.73       123.94         0  \n",
       "3         10.59         7.59         0  \n",
       "4         43.94        33.99         0  "
      ]
     },
     "execution_count": 2,
     "metadata": {},
     "output_type": "execute_result"
    }
   ],
   "source": [
    "df=pd.read_csv(\"Historical_train.csv\")\n",
    "df.head()"
   ]
  },
  {
   "cell_type": "code",
   "execution_count": 3,
   "metadata": {},
   "outputs": [
    {
     "data": {
      "text/plain": [
       "(53197, 14)"
      ]
     },
     "execution_count": 3,
     "metadata": {},
     "output_type": "execute_result"
    }
   ],
   "source": [
    "df.shape"
   ]
  },
  {
   "cell_type": "markdown",
   "metadata": {},
   "source": [
    "- data set consists of 53197 rows and 14 columns."
   ]
  },
  {
   "cell_type": "markdown",
   "metadata": {},
   "source": [
    "- The columns \"Order\",'Unnamed: 0' are dropped because they are just indicating the index or order no , which is not very uselful for our analysis and can be ignored"
   ]
  },
  {
   "cell_type": "code",
   "execution_count": 4,
   "metadata": {},
   "outputs": [],
   "source": [
    "df.drop(columns=[\"Order\",'Unnamed: 0'],inplace=True)"
   ]
  },
  {
   "cell_type": "code",
   "execution_count": 5,
   "metadata": {},
   "outputs": [
    {
     "data": {
      "text/plain": [
       "Index(['File_Type', 'SKU_number', 'MarketingType', 'ReleaseNumber',\n",
       "       'New_Release_Flag', 'StrengthFactor', 'PriceReg', 'ReleaseYear',\n",
       "       'ItemCount', 'LowUserPrice', 'LowNetPrice', 'SoldFlag'],\n",
       "      dtype='object')"
      ]
     },
     "execution_count": 5,
     "metadata": {},
     "output_type": "execute_result"
    }
   ],
   "source": [
    "df.columns"
   ]
  },
  {
   "cell_type": "code",
   "execution_count": 6,
   "metadata": {},
   "outputs": [
    {
     "data": {
      "text/plain": [
       "array(['Historical'], dtype=object)"
      ]
     },
     "execution_count": 6,
     "metadata": {},
     "output_type": "execute_result"
    }
   ],
   "source": [
    "df[\"File_Type\"].unique()"
   ]
  },
  {
   "cell_type": "markdown",
   "metadata": {},
   "source": [
    "- we can drop \"File_Type \" because it has only one unique value which saya all the recirds are historical data , since its contribution is very les towards our analysis , we can drop it."
   ]
  },
  {
   "cell_type": "code",
   "execution_count": 7,
   "metadata": {},
   "outputs": [],
   "source": [
    "df.drop(columns=[\"File_Type\"],inplace=True)"
   ]
  },
  {
   "cell_type": "code",
   "execution_count": 8,
   "metadata": {},
   "outputs": [
    {
     "data": {
      "text/html": [
       "<div>\n",
       "<style scoped>\n",
       "    .dataframe tbody tr th:only-of-type {\n",
       "        vertical-align: middle;\n",
       "    }\n",
       "\n",
       "    .dataframe tbody tr th {\n",
       "        vertical-align: top;\n",
       "    }\n",
       "\n",
       "    .dataframe thead th {\n",
       "        text-align: right;\n",
       "    }\n",
       "</style>\n",
       "<table border=\"1\" class=\"dataframe\">\n",
       "  <thead>\n",
       "    <tr style=\"text-align: right;\">\n",
       "      <th></th>\n",
       "      <th>SKU_number</th>\n",
       "      <th>ReleaseNumber</th>\n",
       "      <th>New_Release_Flag</th>\n",
       "      <th>StrengthFactor</th>\n",
       "      <th>PriceReg</th>\n",
       "      <th>ReleaseYear</th>\n",
       "      <th>ItemCount</th>\n",
       "      <th>LowUserPrice</th>\n",
       "      <th>LowNetPrice</th>\n",
       "      <th>SoldFlag</th>\n",
       "    </tr>\n",
       "  </thead>\n",
       "  <tbody>\n",
       "    <tr>\n",
       "      <th>count</th>\n",
       "      <td>5.319700e+04</td>\n",
       "      <td>53197.000000</td>\n",
       "      <td>53197.00000</td>\n",
       "      <td>5.319700e+04</td>\n",
       "      <td>53197.000000</td>\n",
       "      <td>53197.000000</td>\n",
       "      <td>53197.000000</td>\n",
       "      <td>53197.000000</td>\n",
       "      <td>53197.000000</td>\n",
       "      <td>53197.000000</td>\n",
       "    </tr>\n",
       "    <tr>\n",
       "      <th>mean</th>\n",
       "      <td>6.526196e+05</td>\n",
       "      <td>4.125797</td>\n",
       "      <td>0.78824</td>\n",
       "      <td>1.216757e+06</td>\n",
       "      <td>99.004026</td>\n",
       "      <td>2005.971389</td>\n",
       "      <td>43.941651</td>\n",
       "      <td>56.455537</td>\n",
       "      <td>47.335423</td>\n",
       "      <td>0.171006</td>\n",
       "    </tr>\n",
       "    <tr>\n",
       "      <th>std</th>\n",
       "      <td>6.873272e+05</td>\n",
       "      <td>3.895184</td>\n",
       "      <td>0.40856</td>\n",
       "      <td>1.524907e+06</td>\n",
       "      <td>80.631333</td>\n",
       "      <td>6.098045</td>\n",
       "      <td>37.515901</td>\n",
       "      <td>99.006290</td>\n",
       "      <td>139.049743</td>\n",
       "      <td>0.376518</td>\n",
       "    </tr>\n",
       "    <tr>\n",
       "      <th>min</th>\n",
       "      <td>5.000100e+04</td>\n",
       "      <td>0.000000</td>\n",
       "      <td>0.00000</td>\n",
       "      <td>6.800000e+01</td>\n",
       "      <td>0.000000</td>\n",
       "      <td>1945.000000</td>\n",
       "      <td>0.000000</td>\n",
       "      <td>0.000000</td>\n",
       "      <td>0.000000</td>\n",
       "      <td>0.000000</td>\n",
       "    </tr>\n",
       "    <tr>\n",
       "      <th>25%</th>\n",
       "      <td>1.700050e+05</td>\n",
       "      <td>2.000000</td>\n",
       "      <td>1.00000</td>\n",
       "      <td>2.432250e+05</td>\n",
       "      <td>49.950000</td>\n",
       "      <td>2003.000000</td>\n",
       "      <td>22.000000</td>\n",
       "      <td>20.190000</td>\n",
       "      <td>18.710000</td>\n",
       "      <td>0.000000</td>\n",
       "    </tr>\n",
       "    <tr>\n",
       "      <th>50%</th>\n",
       "      <td>5.409570e+05</td>\n",
       "      <td>3.000000</td>\n",
       "      <td>1.00000</td>\n",
       "      <td>7.155000e+05</td>\n",
       "      <td>78.950000</td>\n",
       "      <td>2007.000000</td>\n",
       "      <td>34.000000</td>\n",
       "      <td>44.000000</td>\n",
       "      <td>36.080000</td>\n",
       "      <td>0.000000</td>\n",
       "    </tr>\n",
       "    <tr>\n",
       "      <th>75%</th>\n",
       "      <td>7.597100e+05</td>\n",
       "      <td>6.000000</td>\n",
       "      <td>1.00000</td>\n",
       "      <td>1.552432e+06</td>\n",
       "      <td>127.950000</td>\n",
       "      <td>2010.000000</td>\n",
       "      <td>53.000000</td>\n",
       "      <td>79.590000</td>\n",
       "      <td>56.980000</td>\n",
       "      <td>0.000000</td>\n",
       "    </tr>\n",
       "    <tr>\n",
       "      <th>max</th>\n",
       "      <td>3.959831e+06</td>\n",
       "      <td>99.000000</td>\n",
       "      <td>1.00000</td>\n",
       "      <td>1.666966e+07</td>\n",
       "      <td>3986.310000</td>\n",
       "      <td>2016.000000</td>\n",
       "      <td>1426.000000</td>\n",
       "      <td>14140.210000</td>\n",
       "      <td>19138.790000</td>\n",
       "      <td>1.000000</td>\n",
       "    </tr>\n",
       "  </tbody>\n",
       "</table>\n",
       "</div>"
      ],
      "text/plain": [
       "         SKU_number  ReleaseNumber  New_Release_Flag  StrengthFactor  \\\n",
       "count  5.319700e+04   53197.000000       53197.00000    5.319700e+04   \n",
       "mean   6.526196e+05       4.125797           0.78824    1.216757e+06   \n",
       "std    6.873272e+05       3.895184           0.40856    1.524907e+06   \n",
       "min    5.000100e+04       0.000000           0.00000    6.800000e+01   \n",
       "25%    1.700050e+05       2.000000           1.00000    2.432250e+05   \n",
       "50%    5.409570e+05       3.000000           1.00000    7.155000e+05   \n",
       "75%    7.597100e+05       6.000000           1.00000    1.552432e+06   \n",
       "max    3.959831e+06      99.000000           1.00000    1.666966e+07   \n",
       "\n",
       "           PriceReg   ReleaseYear     ItemCount  LowUserPrice   LowNetPrice  \\\n",
       "count  53197.000000  53197.000000  53197.000000  53197.000000  53197.000000   \n",
       "mean      99.004026   2005.971389     43.941651     56.455537     47.335423   \n",
       "std       80.631333      6.098045     37.515901     99.006290    139.049743   \n",
       "min        0.000000   1945.000000      0.000000      0.000000      0.000000   \n",
       "25%       49.950000   2003.000000     22.000000     20.190000     18.710000   \n",
       "50%       78.950000   2007.000000     34.000000     44.000000     36.080000   \n",
       "75%      127.950000   2010.000000     53.000000     79.590000     56.980000   \n",
       "max     3986.310000   2016.000000   1426.000000  14140.210000  19138.790000   \n",
       "\n",
       "           SoldFlag  \n",
       "count  53197.000000  \n",
       "mean       0.171006  \n",
       "std        0.376518  \n",
       "min        0.000000  \n",
       "25%        0.000000  \n",
       "50%        0.000000  \n",
       "75%        0.000000  \n",
       "max        1.000000  "
      ]
     },
     "execution_count": 8,
     "metadata": {},
     "output_type": "execute_result"
    }
   ],
   "source": [
    "df.describe()"
   ]
  },
  {
   "cell_type": "code",
   "execution_count": 9,
   "metadata": {},
   "outputs": [
    {
     "data": {
      "text/html": [
       "<style  type=\"text/css\" >\n",
       "    #T_b0bcfce3_7386_11eb_9dcb_5c879cba8d20row0_col2 {\n",
       "            : ;\n",
       "            background-color:  yellow;\n",
       "        }    #T_b0bcfce3_7386_11eb_9dcb_5c879cba8d20row0_col3 {\n",
       "            : ;\n",
       "            background-color:  yellow;\n",
       "        }    #T_b0bcfce3_7386_11eb_9dcb_5c879cba8d20row0_col10 {\n",
       "            : ;\n",
       "            background-color:  yellow;\n",
       "        }    #T_b0bcfce3_7386_11eb_9dcb_5c879cba8d20row1_col0 {\n",
       "            background-color:  orange;\n",
       "            : ;\n",
       "        }    #T_b0bcfce3_7386_11eb_9dcb_5c879cba8d20row1_col2 {\n",
       "            : ;\n",
       "            background-color:  yellow;\n",
       "        }    #T_b0bcfce3_7386_11eb_9dcb_5c879cba8d20row1_col3 {\n",
       "            : ;\n",
       "            background-color:  yellow;\n",
       "        }    #T_b0bcfce3_7386_11eb_9dcb_5c879cba8d20row1_col6 {\n",
       "            : ;\n",
       "            background-color:  yellow;\n",
       "        }    #T_b0bcfce3_7386_11eb_9dcb_5c879cba8d20row1_col10 {\n",
       "            background-color:  orange;\n",
       "            : ;\n",
       "        }    #T_b0bcfce3_7386_11eb_9dcb_5c879cba8d20row2_col2 {\n",
       "            background-color:  orange;\n",
       "            : ;\n",
       "        }    #T_b0bcfce3_7386_11eb_9dcb_5c879cba8d20row2_col3 {\n",
       "            background-color:  orange;\n",
       "            : ;\n",
       "        }    #T_b0bcfce3_7386_11eb_9dcb_5c879cba8d20row2_col5 {\n",
       "            background-color:  orange;\n",
       "            : ;\n",
       "        }    #T_b0bcfce3_7386_11eb_9dcb_5c879cba8d20row2_col6 {\n",
       "            background-color:  orange;\n",
       "            : ;\n",
       "        }    #T_b0bcfce3_7386_11eb_9dcb_5c879cba8d20row2_col8 {\n",
       "            background-color:  orange;\n",
       "            : ;\n",
       "        }    #T_b0bcfce3_7386_11eb_9dcb_5c879cba8d20row2_col9 {\n",
       "            background-color:  orange;\n",
       "            : ;\n",
       "        }    #T_b0bcfce3_7386_11eb_9dcb_5c879cba8d20row2_col10 {\n",
       "            : ;\n",
       "            background-color:  yellow;\n",
       "        }    #T_b0bcfce3_7386_11eb_9dcb_5c879cba8d20row3_col3 {\n",
       "            background-color:  orange;\n",
       "            : ;\n",
       "        }    #T_b0bcfce3_7386_11eb_9dcb_5c879cba8d20row3_col7 {\n",
       "            background-color:  orange;\n",
       "            : ;\n",
       "        }    #T_b0bcfce3_7386_11eb_9dcb_5c879cba8d20row3_col10 {\n",
       "            : ;\n",
       "            background-color:  yellow;\n",
       "        }    #T_b0bcfce3_7386_11eb_9dcb_5c879cba8d20row4_col3 {\n",
       "            : ;\n",
       "            background-color:  yellow;\n",
       "        }    #T_b0bcfce3_7386_11eb_9dcb_5c879cba8d20row4_col7 {\n",
       "            : ;\n",
       "            background-color:  yellow;\n",
       "        }    #T_b0bcfce3_7386_11eb_9dcb_5c879cba8d20row4_col10 {\n",
       "            : ;\n",
       "            background-color:  yellow;\n",
       "        }    #T_b0bcfce3_7386_11eb_9dcb_5c879cba8d20row5_col3 {\n",
       "            background-color:  orange;\n",
       "            : ;\n",
       "        }    #T_b0bcfce3_7386_11eb_9dcb_5c879cba8d20row5_col10 {\n",
       "            : ;\n",
       "            background-color:  yellow;\n",
       "        }    #T_b0bcfce3_7386_11eb_9dcb_5c879cba8d20row6_col3 {\n",
       "            : ;\n",
       "            background-color:  yellow;\n",
       "        }    #T_b0bcfce3_7386_11eb_9dcb_5c879cba8d20row6_col8 {\n",
       "            : ;\n",
       "            background-color:  yellow;\n",
       "        }    #T_b0bcfce3_7386_11eb_9dcb_5c879cba8d20row6_col10 {\n",
       "            : ;\n",
       "            background-color:  yellow;\n",
       "        }    #T_b0bcfce3_7386_11eb_9dcb_5c879cba8d20row7_col2 {\n",
       "            : ;\n",
       "            background-color:  yellow;\n",
       "        }    #T_b0bcfce3_7386_11eb_9dcb_5c879cba8d20row7_col3 {\n",
       "            : ;\n",
       "            background-color:  yellow;\n",
       "        }    #T_b0bcfce3_7386_11eb_9dcb_5c879cba8d20row7_col9 {\n",
       "            : ;\n",
       "            background-color:  yellow;\n",
       "        }    #T_b0bcfce3_7386_11eb_9dcb_5c879cba8d20row7_col10 {\n",
       "            : ;\n",
       "            background-color:  yellow;\n",
       "        }    #T_b0bcfce3_7386_11eb_9dcb_5c879cba8d20row8_col3 {\n",
       "            : ;\n",
       "            background-color:  yellow;\n",
       "        }    #T_b0bcfce3_7386_11eb_9dcb_5c879cba8d20row8_col4 {\n",
       "            : ;\n",
       "            background-color:  yellow;\n",
       "        }    #T_b0bcfce3_7386_11eb_9dcb_5c879cba8d20row8_col10 {\n",
       "            : ;\n",
       "            background-color:  yellow;\n",
       "        }    #T_b0bcfce3_7386_11eb_9dcb_5c879cba8d20row9_col0 {\n",
       "            : ;\n",
       "            background-color:  yellow;\n",
       "        }    #T_b0bcfce3_7386_11eb_9dcb_5c879cba8d20row9_col3 {\n",
       "            background-color:  orange;\n",
       "            : ;\n",
       "        }    #T_b0bcfce3_7386_11eb_9dcb_5c879cba8d20row9_col10 {\n",
       "            : ;\n",
       "            background-color:  yellow;\n",
       "        }    #T_b0bcfce3_7386_11eb_9dcb_5c879cba8d20row10_col3 {\n",
       "            background-color:  orange;\n",
       "            : ;\n",
       "        }    #T_b0bcfce3_7386_11eb_9dcb_5c879cba8d20row10_col10 {\n",
       "            : ;\n",
       "            background-color:  yellow;\n",
       "        }    #T_b0bcfce3_7386_11eb_9dcb_5c879cba8d20row11_col3 {\n",
       "            background-color:  orange;\n",
       "            : ;\n",
       "        }    #T_b0bcfce3_7386_11eb_9dcb_5c879cba8d20row11_col4 {\n",
       "            background-color:  orange;\n",
       "            : ;\n",
       "        }    #T_b0bcfce3_7386_11eb_9dcb_5c879cba8d20row11_col10 {\n",
       "            : ;\n",
       "            background-color:  yellow;\n",
       "        }    #T_b0bcfce3_7386_11eb_9dcb_5c879cba8d20row12_col3 {\n",
       "            background-color:  orange;\n",
       "            : ;\n",
       "        }    #T_b0bcfce3_7386_11eb_9dcb_5c879cba8d20row12_col10 {\n",
       "            : ;\n",
       "            background-color:  yellow;\n",
       "        }    #T_b0bcfce3_7386_11eb_9dcb_5c879cba8d20row13_col3 {\n",
       "            background-color:  orange;\n",
       "            : ;\n",
       "        }    #T_b0bcfce3_7386_11eb_9dcb_5c879cba8d20row13_col10 {\n",
       "            : ;\n",
       "            background-color:  yellow;\n",
       "        }    #T_b0bcfce3_7386_11eb_9dcb_5c879cba8d20row14_col3 {\n",
       "            background-color:  orange;\n",
       "            : ;\n",
       "        }    #T_b0bcfce3_7386_11eb_9dcb_5c879cba8d20row14_col5 {\n",
       "            : ;\n",
       "            background-color:  yellow;\n",
       "        }    #T_b0bcfce3_7386_11eb_9dcb_5c879cba8d20row14_col10 {\n",
       "            : ;\n",
       "            background-color:  yellow;\n",
       "        }</style><table id=\"T_b0bcfce3_7386_11eb_9dcb_5c879cba8d20\" ><thead>    <tr>        <th class=\"blank level0\" ></th>        <th class=\"col_heading level0 col0\" >SKU_number</th>        <th class=\"col_heading level0 col1\" >MarketingType</th>        <th class=\"col_heading level0 col2\" >ReleaseNumber</th>        <th class=\"col_heading level0 col3\" >New_Release_Flag</th>        <th class=\"col_heading level0 col4\" >StrengthFactor</th>        <th class=\"col_heading level0 col5\" >PriceReg</th>        <th class=\"col_heading level0 col6\" >ReleaseYear</th>        <th class=\"col_heading level0 col7\" >ItemCount</th>        <th class=\"col_heading level0 col8\" >LowUserPrice</th>        <th class=\"col_heading level0 col9\" >LowNetPrice</th>        <th class=\"col_heading level0 col10\" >SoldFlag</th>    </tr></thead><tbody>\n",
       "                <tr>\n",
       "                        <th id=\"T_b0bcfce3_7386_11eb_9dcb_5c879cba8d20level0_row0\" class=\"row_heading level0 row0\" >0</th>\n",
       "                        <td id=\"T_b0bcfce3_7386_11eb_9dcb_5c879cba8d20row0_col0\" class=\"data row0 col0\" >266198</td>\n",
       "                        <td id=\"T_b0bcfce3_7386_11eb_9dcb_5c879cba8d20row0_col1\" class=\"data row0 col1\" >S</td>\n",
       "                        <td id=\"T_b0bcfce3_7386_11eb_9dcb_5c879cba8d20row0_col2\" class=\"data row0 col2\" >0</td>\n",
       "                        <td id=\"T_b0bcfce3_7386_11eb_9dcb_5c879cba8d20row0_col3\" class=\"data row0 col3\" >0</td>\n",
       "                        <td id=\"T_b0bcfce3_7386_11eb_9dcb_5c879cba8d20row0_col4\" class=\"data row0 col4\" >1255901</td>\n",
       "                        <td id=\"T_b0bcfce3_7386_11eb_9dcb_5c879cba8d20row0_col5\" class=\"data row0 col5\" >32.500000</td>\n",
       "                        <td id=\"T_b0bcfce3_7386_11eb_9dcb_5c879cba8d20row0_col6\" class=\"data row0 col6\" >2004</td>\n",
       "                        <td id=\"T_b0bcfce3_7386_11eb_9dcb_5c879cba8d20row0_col7\" class=\"data row0 col7\" >26</td>\n",
       "                        <td id=\"T_b0bcfce3_7386_11eb_9dcb_5c879cba8d20row0_col8\" class=\"data row0 col8\" >27.570000</td>\n",
       "                        <td id=\"T_b0bcfce3_7386_11eb_9dcb_5c879cba8d20row0_col9\" class=\"data row0 col9\" >10.990000</td>\n",
       "                        <td id=\"T_b0bcfce3_7386_11eb_9dcb_5c879cba8d20row0_col10\" class=\"data row0 col10\" >0</td>\n",
       "            </tr>\n",
       "            <tr>\n",
       "                        <th id=\"T_b0bcfce3_7386_11eb_9dcb_5c879cba8d20level0_row1\" class=\"row_heading level0 row1\" >1</th>\n",
       "                        <td id=\"T_b0bcfce3_7386_11eb_9dcb_5c879cba8d20row1_col0\" class=\"data row1 col0\" >2405151</td>\n",
       "                        <td id=\"T_b0bcfce3_7386_11eb_9dcb_5c879cba8d20row1_col1\" class=\"data row1 col1\" >S</td>\n",
       "                        <td id=\"T_b0bcfce3_7386_11eb_9dcb_5c879cba8d20row1_col2\" class=\"data row1 col2\" >0</td>\n",
       "                        <td id=\"T_b0bcfce3_7386_11eb_9dcb_5c879cba8d20row1_col3\" class=\"data row1 col3\" >0</td>\n",
       "                        <td id=\"T_b0bcfce3_7386_11eb_9dcb_5c879cba8d20row1_col4\" class=\"data row1 col4\" >208404</td>\n",
       "                        <td id=\"T_b0bcfce3_7386_11eb_9dcb_5c879cba8d20row1_col5\" class=\"data row1 col5\" >70.000000</td>\n",
       "                        <td id=\"T_b0bcfce3_7386_11eb_9dcb_5c879cba8d20row1_col6\" class=\"data row1 col6\" >1988</td>\n",
       "                        <td id=\"T_b0bcfce3_7386_11eb_9dcb_5c879cba8d20row1_col7\" class=\"data row1 col7\" >21</td>\n",
       "                        <td id=\"T_b0bcfce3_7386_11eb_9dcb_5c879cba8d20row1_col8\" class=\"data row1 col8\" >15.990000</td>\n",
       "                        <td id=\"T_b0bcfce3_7386_11eb_9dcb_5c879cba8d20row1_col9\" class=\"data row1 col9\" >40.020000</td>\n",
       "                        <td id=\"T_b0bcfce3_7386_11eb_9dcb_5c879cba8d20row1_col10\" class=\"data row1 col10\" >1</td>\n",
       "            </tr>\n",
       "            <tr>\n",
       "                        <th id=\"T_b0bcfce3_7386_11eb_9dcb_5c879cba8d20level0_row2\" class=\"row_heading level0 row2\" >2</th>\n",
       "                        <td id=\"T_b0bcfce3_7386_11eb_9dcb_5c879cba8d20row2_col0\" class=\"data row2 col0\" >528384</td>\n",
       "                        <td id=\"T_b0bcfce3_7386_11eb_9dcb_5c879cba8d20row2_col1\" class=\"data row2 col1\" >D</td>\n",
       "                        <td id=\"T_b0bcfce3_7386_11eb_9dcb_5c879cba8d20row2_col2\" class=\"data row2 col2\" >9</td>\n",
       "                        <td id=\"T_b0bcfce3_7386_11eb_9dcb_5c879cba8d20row2_col3\" class=\"data row2 col3\" >1</td>\n",
       "                        <td id=\"T_b0bcfce3_7386_11eb_9dcb_5c879cba8d20row2_col4\" class=\"data row2 col4\" >50339</td>\n",
       "                        <td id=\"T_b0bcfce3_7386_11eb_9dcb_5c879cba8d20row2_col5\" class=\"data row2 col5\" >324.950000</td>\n",
       "                        <td id=\"T_b0bcfce3_7386_11eb_9dcb_5c879cba8d20row2_col6\" class=\"data row2 col6\" >2013</td>\n",
       "                        <td id=\"T_b0bcfce3_7386_11eb_9dcb_5c879cba8d20row2_col7\" class=\"data row2 col7\" >53</td>\n",
       "                        <td id=\"T_b0bcfce3_7386_11eb_9dcb_5c879cba8d20row2_col8\" class=\"data row2 col8\" >149.730000</td>\n",
       "                        <td id=\"T_b0bcfce3_7386_11eb_9dcb_5c879cba8d20row2_col9\" class=\"data row2 col9\" >123.940000</td>\n",
       "                        <td id=\"T_b0bcfce3_7386_11eb_9dcb_5c879cba8d20row2_col10\" class=\"data row2 col10\" >0</td>\n",
       "            </tr>\n",
       "            <tr>\n",
       "                        <th id=\"T_b0bcfce3_7386_11eb_9dcb_5c879cba8d20level0_row3\" class=\"row_heading level0 row3\" >3</th>\n",
       "                        <td id=\"T_b0bcfce3_7386_11eb_9dcb_5c879cba8d20row3_col0\" class=\"data row3 col0\" >571691</td>\n",
       "                        <td id=\"T_b0bcfce3_7386_11eb_9dcb_5c879cba8d20row3_col1\" class=\"data row3 col1\" >S</td>\n",
       "                        <td id=\"T_b0bcfce3_7386_11eb_9dcb_5c879cba8d20row3_col2\" class=\"data row3 col2\" >4</td>\n",
       "                        <td id=\"T_b0bcfce3_7386_11eb_9dcb_5c879cba8d20row3_col3\" class=\"data row3 col3\" >1</td>\n",
       "                        <td id=\"T_b0bcfce3_7386_11eb_9dcb_5c879cba8d20row3_col4\" class=\"data row3 col4\" >1361255</td>\n",
       "                        <td id=\"T_b0bcfce3_7386_11eb_9dcb_5c879cba8d20row3_col5\" class=\"data row3 col5\" >39.950000</td>\n",
       "                        <td id=\"T_b0bcfce3_7386_11eb_9dcb_5c879cba8d20row3_col6\" class=\"data row3 col6\" >2005</td>\n",
       "                        <td id=\"T_b0bcfce3_7386_11eb_9dcb_5c879cba8d20row3_col7\" class=\"data row3 col7\" >67</td>\n",
       "                        <td id=\"T_b0bcfce3_7386_11eb_9dcb_5c879cba8d20row3_col8\" class=\"data row3 col8\" >10.590000</td>\n",
       "                        <td id=\"T_b0bcfce3_7386_11eb_9dcb_5c879cba8d20row3_col9\" class=\"data row3 col9\" >7.590000</td>\n",
       "                        <td id=\"T_b0bcfce3_7386_11eb_9dcb_5c879cba8d20row3_col10\" class=\"data row3 col10\" >0</td>\n",
       "            </tr>\n",
       "            <tr>\n",
       "                        <th id=\"T_b0bcfce3_7386_11eb_9dcb_5c879cba8d20level0_row4\" class=\"row_heading level0 row4\" >4</th>\n",
       "                        <td id=\"T_b0bcfce3_7386_11eb_9dcb_5c879cba8d20row4_col0\" class=\"data row4 col0\" >2363274</td>\n",
       "                        <td id=\"T_b0bcfce3_7386_11eb_9dcb_5c879cba8d20row4_col1\" class=\"data row4 col1\" >D</td>\n",
       "                        <td id=\"T_b0bcfce3_7386_11eb_9dcb_5c879cba8d20row4_col2\" class=\"data row4 col2\" >1</td>\n",
       "                        <td id=\"T_b0bcfce3_7386_11eb_9dcb_5c879cba8d20row4_col3\" class=\"data row4 col3\" >0</td>\n",
       "                        <td id=\"T_b0bcfce3_7386_11eb_9dcb_5c879cba8d20row4_col4\" class=\"data row4 col4\" >3760024</td>\n",
       "                        <td id=\"T_b0bcfce3_7386_11eb_9dcb_5c879cba8d20row4_col5\" class=\"data row4 col5\" >144.000000</td>\n",
       "                        <td id=\"T_b0bcfce3_7386_11eb_9dcb_5c879cba8d20row4_col6\" class=\"data row4 col6\" >2004</td>\n",
       "                        <td id=\"T_b0bcfce3_7386_11eb_9dcb_5c879cba8d20row4_col7\" class=\"data row4 col7\" >13</td>\n",
       "                        <td id=\"T_b0bcfce3_7386_11eb_9dcb_5c879cba8d20row4_col8\" class=\"data row4 col8\" >43.940000</td>\n",
       "                        <td id=\"T_b0bcfce3_7386_11eb_9dcb_5c879cba8d20row4_col9\" class=\"data row4 col9\" >33.990000</td>\n",
       "                        <td id=\"T_b0bcfce3_7386_11eb_9dcb_5c879cba8d20row4_col10\" class=\"data row4 col10\" >0</td>\n",
       "            </tr>\n",
       "            <tr>\n",
       "                        <th id=\"T_b0bcfce3_7386_11eb_9dcb_5c879cba8d20level0_row5\" class=\"row_heading level0 row5\" >5</th>\n",
       "                        <td id=\"T_b0bcfce3_7386_11eb_9dcb_5c879cba8d20row5_col0\" class=\"data row5 col0\" >919625</td>\n",
       "                        <td id=\"T_b0bcfce3_7386_11eb_9dcb_5c879cba8d20row5_col1\" class=\"data row5 col1\" >D</td>\n",
       "                        <td id=\"T_b0bcfce3_7386_11eb_9dcb_5c879cba8d20row5_col2\" class=\"data row5 col2\" >7</td>\n",
       "                        <td id=\"T_b0bcfce3_7386_11eb_9dcb_5c879cba8d20row5_col3\" class=\"data row5 col3\" >1</td>\n",
       "                        <td id=\"T_b0bcfce3_7386_11eb_9dcb_5c879cba8d20row5_col4\" class=\"data row5 col4\" >415071</td>\n",
       "                        <td id=\"T_b0bcfce3_7386_11eb_9dcb_5c879cba8d20row5_col5\" class=\"data row5 col5\" >257.750000</td>\n",
       "                        <td id=\"T_b0bcfce3_7386_11eb_9dcb_5c879cba8d20row5_col6\" class=\"data row5 col6\" >2010</td>\n",
       "                        <td id=\"T_b0bcfce3_7386_11eb_9dcb_5c879cba8d20row5_col7\" class=\"data row5 col7\" >50</td>\n",
       "                        <td id=\"T_b0bcfce3_7386_11eb_9dcb_5c879cba8d20row5_col8\" class=\"data row5 col8\" >86.990000</td>\n",
       "                        <td id=\"T_b0bcfce3_7386_11eb_9dcb_5c879cba8d20row5_col9\" class=\"data row5 col9\" >45.540000</td>\n",
       "                        <td id=\"T_b0bcfce3_7386_11eb_9dcb_5c879cba8d20row5_col10\" class=\"data row5 col10\" >0</td>\n",
       "            </tr>\n",
       "            <tr>\n",
       "                        <th id=\"T_b0bcfce3_7386_11eb_9dcb_5c879cba8d20level0_row6\" class=\"row_heading level0 row6\" >6</th>\n",
       "                        <td id=\"T_b0bcfce3_7386_11eb_9dcb_5c879cba8d20row6_col0\" class=\"data row6 col0\" >162332</td>\n",
       "                        <td id=\"T_b0bcfce3_7386_11eb_9dcb_5c879cba8d20row6_col1\" class=\"data row6 col1\" >S</td>\n",
       "                        <td id=\"T_b0bcfce3_7386_11eb_9dcb_5c879cba8d20row6_col2\" class=\"data row6 col2\" >1</td>\n",
       "                        <td id=\"T_b0bcfce3_7386_11eb_9dcb_5c879cba8d20row6_col3\" class=\"data row6 col3\" >0</td>\n",
       "                        <td id=\"T_b0bcfce3_7386_11eb_9dcb_5c879cba8d20row6_col4\" class=\"data row6 col4\" >495212</td>\n",
       "                        <td id=\"T_b0bcfce3_7386_11eb_9dcb_5c879cba8d20row6_col5\" class=\"data row6 col5\" >115.000000</td>\n",
       "                        <td id=\"T_b0bcfce3_7386_11eb_9dcb_5c879cba8d20row6_col6\" class=\"data row6 col6\" >2009</td>\n",
       "                        <td id=\"T_b0bcfce3_7386_11eb_9dcb_5c879cba8d20row6_col7\" class=\"data row6 col7\" >14</td>\n",
       "                        <td id=\"T_b0bcfce3_7386_11eb_9dcb_5c879cba8d20row6_col8\" class=\"data row6 col8\" >0.000000</td>\n",
       "                        <td id=\"T_b0bcfce3_7386_11eb_9dcb_5c879cba8d20row6_col9\" class=\"data row6 col9\" >81.090000</td>\n",
       "                        <td id=\"T_b0bcfce3_7386_11eb_9dcb_5c879cba8d20row6_col10\" class=\"data row6 col10\" >0</td>\n",
       "            </tr>\n",
       "            <tr>\n",
       "                        <th id=\"T_b0bcfce3_7386_11eb_9dcb_5c879cba8d20level0_row7\" class=\"row_heading level0 row7\" >7</th>\n",
       "                        <td id=\"T_b0bcfce3_7386_11eb_9dcb_5c879cba8d20row7_col0\" class=\"data row7 col0\" >313692</td>\n",
       "                        <td id=\"T_b0bcfce3_7386_11eb_9dcb_5c879cba8d20row7_col1\" class=\"data row7 col1\" >D</td>\n",
       "                        <td id=\"T_b0bcfce3_7386_11eb_9dcb_5c879cba8d20row7_col2\" class=\"data row7 col2\" >0</td>\n",
       "                        <td id=\"T_b0bcfce3_7386_11eb_9dcb_5c879cba8d20row7_col3\" class=\"data row7 col3\" >0</td>\n",
       "                        <td id=\"T_b0bcfce3_7386_11eb_9dcb_5c879cba8d20row7_col4\" class=\"data row7 col4\" >3687650</td>\n",
       "                        <td id=\"T_b0bcfce3_7386_11eb_9dcb_5c879cba8d20row7_col5\" class=\"data row7 col5\" >37.330000</td>\n",
       "                        <td id=\"T_b0bcfce3_7386_11eb_9dcb_5c879cba8d20row7_col6\" class=\"data row7 col6\" >2003</td>\n",
       "                        <td id=\"T_b0bcfce3_7386_11eb_9dcb_5c879cba8d20row7_col7\" class=\"data row7 col7\" >29</td>\n",
       "                        <td id=\"T_b0bcfce3_7386_11eb_9dcb_5c879cba8d20row7_col8\" class=\"data row7 col8\" >45.520000</td>\n",
       "                        <td id=\"T_b0bcfce3_7386_11eb_9dcb_5c879cba8d20row7_col9\" class=\"data row7 col9\" >4.330000</td>\n",
       "                        <td id=\"T_b0bcfce3_7386_11eb_9dcb_5c879cba8d20row7_col10\" class=\"data row7 col10\" >0</td>\n",
       "            </tr>\n",
       "            <tr>\n",
       "                        <th id=\"T_b0bcfce3_7386_11eb_9dcb_5c879cba8d20level0_row8\" class=\"row_heading level0 row8\" >8</th>\n",
       "                        <td id=\"T_b0bcfce3_7386_11eb_9dcb_5c879cba8d20row8_col0\" class=\"data row8 col0\" >621965</td>\n",
       "                        <td id=\"T_b0bcfce3_7386_11eb_9dcb_5c879cba8d20row8_col1\" class=\"data row8 col1\" >S</td>\n",
       "                        <td id=\"T_b0bcfce3_7386_11eb_9dcb_5c879cba8d20row8_col2\" class=\"data row8 col2\" >1</td>\n",
       "                        <td id=\"T_b0bcfce3_7386_11eb_9dcb_5c879cba8d20row8_col3\" class=\"data row8 col3\" >0</td>\n",
       "                        <td id=\"T_b0bcfce3_7386_11eb_9dcb_5c879cba8d20row8_col4\" class=\"data row8 col4\" >34173</td>\n",
       "                        <td id=\"T_b0bcfce3_7386_11eb_9dcb_5c879cba8d20row8_col5\" class=\"data row8 col5\" >49.950000</td>\n",
       "                        <td id=\"T_b0bcfce3_7386_11eb_9dcb_5c879cba8d20row8_col6\" class=\"data row8 col6\" >2010</td>\n",
       "                        <td id=\"T_b0bcfce3_7386_11eb_9dcb_5c879cba8d20row8_col7\" class=\"data row8 col7\" >42</td>\n",
       "                        <td id=\"T_b0bcfce3_7386_11eb_9dcb_5c879cba8d20row8_col8\" class=\"data row8 col8\" >26.330000</td>\n",
       "                        <td id=\"T_b0bcfce3_7386_11eb_9dcb_5c879cba8d20row8_col9\" class=\"data row8 col9\" >30.980000</td>\n",
       "                        <td id=\"T_b0bcfce3_7386_11eb_9dcb_5c879cba8d20row8_col10\" class=\"data row8 col10\" >0</td>\n",
       "            </tr>\n",
       "            <tr>\n",
       "                        <th id=\"T_b0bcfce3_7386_11eb_9dcb_5c879cba8d20level0_row9\" class=\"row_heading level0 row9\" >9</th>\n",
       "                        <td id=\"T_b0bcfce3_7386_11eb_9dcb_5c879cba8d20row9_col0\" class=\"data row9 col0\" >109242</td>\n",
       "                        <td id=\"T_b0bcfce3_7386_11eb_9dcb_5c879cba8d20row9_col1\" class=\"data row9 col1\" >S</td>\n",
       "                        <td id=\"T_b0bcfce3_7386_11eb_9dcb_5c879cba8d20row9_col2\" class=\"data row9 col2\" >5</td>\n",
       "                        <td id=\"T_b0bcfce3_7386_11eb_9dcb_5c879cba8d20row9_col3\" class=\"data row9 col3\" >1</td>\n",
       "                        <td id=\"T_b0bcfce3_7386_11eb_9dcb_5c879cba8d20row9_col4\" class=\"data row9 col4\" >2425217</td>\n",
       "                        <td id=\"T_b0bcfce3_7386_11eb_9dcb_5c879cba8d20row9_col5\" class=\"data row9 col5\" >43.030000</td>\n",
       "                        <td id=\"T_b0bcfce3_7386_11eb_9dcb_5c879cba8d20row9_col6\" class=\"data row9 col6\" >2005</td>\n",
       "                        <td id=\"T_b0bcfce3_7386_11eb_9dcb_5c879cba8d20row9_col7\" class=\"data row9 col7\" >20</td>\n",
       "                        <td id=\"T_b0bcfce3_7386_11eb_9dcb_5c879cba8d20row9_col8\" class=\"data row9 col8\" >41.490000</td>\n",
       "                        <td id=\"T_b0bcfce3_7386_11eb_9dcb_5c879cba8d20row9_col9\" class=\"data row9 col9\" >45.620000</td>\n",
       "                        <td id=\"T_b0bcfce3_7386_11eb_9dcb_5c879cba8d20row9_col10\" class=\"data row9 col10\" >0</td>\n",
       "            </tr>\n",
       "            <tr>\n",
       "                        <th id=\"T_b0bcfce3_7386_11eb_9dcb_5c879cba8d20level0_row10\" class=\"row_heading level0 row10\" >10</th>\n",
       "                        <td id=\"T_b0bcfce3_7386_11eb_9dcb_5c879cba8d20row10_col0\" class=\"data row10 col0\" >261414</td>\n",
       "                        <td id=\"T_b0bcfce3_7386_11eb_9dcb_5c879cba8d20row10_col1\" class=\"data row10 col1\" >D</td>\n",
       "                        <td id=\"T_b0bcfce3_7386_11eb_9dcb_5c879cba8d20row10_col2\" class=\"data row10 col2\" >2</td>\n",
       "                        <td id=\"T_b0bcfce3_7386_11eb_9dcb_5c879cba8d20row10_col3\" class=\"data row10 col3\" >1</td>\n",
       "                        <td id=\"T_b0bcfce3_7386_11eb_9dcb_5c879cba8d20row10_col4\" class=\"data row10 col4\" >2831320</td>\n",
       "                        <td id=\"T_b0bcfce3_7386_11eb_9dcb_5c879cba8d20row10_col5\" class=\"data row10 col5\" >32.000000</td>\n",
       "                        <td id=\"T_b0bcfce3_7386_11eb_9dcb_5c879cba8d20row10_col6\" class=\"data row10 col6\" >2003</td>\n",
       "                        <td id=\"T_b0bcfce3_7386_11eb_9dcb_5c879cba8d20row10_col7\" class=\"data row10 col7\" >39</td>\n",
       "                        <td id=\"T_b0bcfce3_7386_11eb_9dcb_5c879cba8d20row10_col8\" class=\"data row10 col8\" >19.390000</td>\n",
       "                        <td id=\"T_b0bcfce3_7386_11eb_9dcb_5c879cba8d20row10_col9\" class=\"data row10 col9\" >5.920000</td>\n",
       "                        <td id=\"T_b0bcfce3_7386_11eb_9dcb_5c879cba8d20row10_col10\" class=\"data row10 col10\" >0</td>\n",
       "            </tr>\n",
       "            <tr>\n",
       "                        <th id=\"T_b0bcfce3_7386_11eb_9dcb_5c879cba8d20level0_row11\" class=\"row_heading level0 row11\" >11</th>\n",
       "                        <td id=\"T_b0bcfce3_7386_11eb_9dcb_5c879cba8d20row11_col0\" class=\"data row11 col0\" >876744</td>\n",
       "                        <td id=\"T_b0bcfce3_7386_11eb_9dcb_5c879cba8d20row11_col1\" class=\"data row11 col1\" >D</td>\n",
       "                        <td id=\"T_b0bcfce3_7386_11eb_9dcb_5c879cba8d20row11_col2\" class=\"data row11 col2\" >5</td>\n",
       "                        <td id=\"T_b0bcfce3_7386_11eb_9dcb_5c879cba8d20row11_col3\" class=\"data row11 col3\" >1</td>\n",
       "                        <td id=\"T_b0bcfce3_7386_11eb_9dcb_5c879cba8d20row11_col4\" class=\"data row11 col4\" >4209563</td>\n",
       "                        <td id=\"T_b0bcfce3_7386_11eb_9dcb_5c879cba8d20row11_col5\" class=\"data row11 col5\" >78.000000</td>\n",
       "                        <td id=\"T_b0bcfce3_7386_11eb_9dcb_5c879cba8d20row11_col6\" class=\"data row11 col6\" >1999</td>\n",
       "                        <td id=\"T_b0bcfce3_7386_11eb_9dcb_5c879cba8d20row11_col7\" class=\"data row11 col7\" >23</td>\n",
       "                        <td id=\"T_b0bcfce3_7386_11eb_9dcb_5c879cba8d20row11_col8\" class=\"data row11 col8\" >74.360000</td>\n",
       "                        <td id=\"T_b0bcfce3_7386_11eb_9dcb_5c879cba8d20row11_col9\" class=\"data row11 col9\" >33.920000</td>\n",
       "                        <td id=\"T_b0bcfce3_7386_11eb_9dcb_5c879cba8d20row11_col10\" class=\"data row11 col10\" >0</td>\n",
       "            </tr>\n",
       "            <tr>\n",
       "                        <th id=\"T_b0bcfce3_7386_11eb_9dcb_5c879cba8d20level0_row12\" class=\"row_heading level0 row12\" >12</th>\n",
       "                        <td id=\"T_b0bcfce3_7386_11eb_9dcb_5c879cba8d20row12_col0\" class=\"data row12 col0\" >461781</td>\n",
       "                        <td id=\"T_b0bcfce3_7386_11eb_9dcb_5c879cba8d20row12_col1\" class=\"data row12 col1\" >D</td>\n",
       "                        <td id=\"T_b0bcfce3_7386_11eb_9dcb_5c879cba8d20row12_col2\" class=\"data row12 col2\" >2</td>\n",
       "                        <td id=\"T_b0bcfce3_7386_11eb_9dcb_5c879cba8d20row12_col3\" class=\"data row12 col3\" >1</td>\n",
       "                        <td id=\"T_b0bcfce3_7386_11eb_9dcb_5c879cba8d20row12_col4\" class=\"data row12 col4\" >989673</td>\n",
       "                        <td id=\"T_b0bcfce3_7386_11eb_9dcb_5c879cba8d20row12_col5\" class=\"data row12 col5\" >125.950000</td>\n",
       "                        <td id=\"T_b0bcfce3_7386_11eb_9dcb_5c879cba8d20row12_col6\" class=\"data row12 col6\" >2006</td>\n",
       "                        <td id=\"T_b0bcfce3_7386_11eb_9dcb_5c879cba8d20row12_col7\" class=\"data row12 col7\" >25</td>\n",
       "                        <td id=\"T_b0bcfce3_7386_11eb_9dcb_5c879cba8d20row12_col8\" class=\"data row12 col8\" >48.990000</td>\n",
       "                        <td id=\"T_b0bcfce3_7386_11eb_9dcb_5c879cba8d20row12_col9\" class=\"data row12 col9\" >110.060000</td>\n",
       "                        <td id=\"T_b0bcfce3_7386_11eb_9dcb_5c879cba8d20row12_col10\" class=\"data row12 col10\" >0</td>\n",
       "            </tr>\n",
       "            <tr>\n",
       "                        <th id=\"T_b0bcfce3_7386_11eb_9dcb_5c879cba8d20level0_row13\" class=\"row_heading level0 row13\" >13</th>\n",
       "                        <td id=\"T_b0bcfce3_7386_11eb_9dcb_5c879cba8d20row13_col0\" class=\"data row13 col0\" >164282</td>\n",
       "                        <td id=\"T_b0bcfce3_7386_11eb_9dcb_5c879cba8d20row13_col1\" class=\"data row13 col1\" >D</td>\n",
       "                        <td id=\"T_b0bcfce3_7386_11eb_9dcb_5c879cba8d20row13_col2\" class=\"data row13 col2\" >2</td>\n",
       "                        <td id=\"T_b0bcfce3_7386_11eb_9dcb_5c879cba8d20row13_col3\" class=\"data row13 col3\" >1</td>\n",
       "                        <td id=\"T_b0bcfce3_7386_11eb_9dcb_5c879cba8d20row13_col4\" class=\"data row13 col4\" >627449</td>\n",
       "                        <td id=\"T_b0bcfce3_7386_11eb_9dcb_5c879cba8d20row13_col5\" class=\"data row13 col5\" >34.950000</td>\n",
       "                        <td id=\"T_b0bcfce3_7386_11eb_9dcb_5c879cba8d20row13_col6\" class=\"data row13 col6\" >2002</td>\n",
       "                        <td id=\"T_b0bcfce3_7386_11eb_9dcb_5c879cba8d20row13_col7\" class=\"data row13 col7\" >35</td>\n",
       "                        <td id=\"T_b0bcfce3_7386_11eb_9dcb_5c879cba8d20row13_col8\" class=\"data row13 col8\" >22.750000</td>\n",
       "                        <td id=\"T_b0bcfce3_7386_11eb_9dcb_5c879cba8d20row13_col9\" class=\"data row13 col9\" >11.980000</td>\n",
       "                        <td id=\"T_b0bcfce3_7386_11eb_9dcb_5c879cba8d20row13_col10\" class=\"data row13 col10\" >0</td>\n",
       "            </tr>\n",
       "            <tr>\n",
       "                        <th id=\"T_b0bcfce3_7386_11eb_9dcb_5c879cba8d20level0_row14\" class=\"row_heading level0 row14\" >14</th>\n",
       "                        <td id=\"T_b0bcfce3_7386_11eb_9dcb_5c879cba8d20row14_col0\" class=\"data row14 col0\" >308951</td>\n",
       "                        <td id=\"T_b0bcfce3_7386_11eb_9dcb_5c879cba8d20row14_col1\" class=\"data row14 col1\" >D</td>\n",
       "                        <td id=\"T_b0bcfce3_7386_11eb_9dcb_5c879cba8d20row14_col2\" class=\"data row14 col2\" >5</td>\n",
       "                        <td id=\"T_b0bcfce3_7386_11eb_9dcb_5c879cba8d20row14_col3\" class=\"data row14 col3\" >1</td>\n",
       "                        <td id=\"T_b0bcfce3_7386_11eb_9dcb_5c879cba8d20row14_col4\" class=\"data row14 col4\" >1661944</td>\n",
       "                        <td id=\"T_b0bcfce3_7386_11eb_9dcb_5c879cba8d20row14_col5\" class=\"data row14 col5\" >18.280000</td>\n",
       "                        <td id=\"T_b0bcfce3_7386_11eb_9dcb_5c879cba8d20row14_col6\" class=\"data row14 col6\" >2006</td>\n",
       "                        <td id=\"T_b0bcfce3_7386_11eb_9dcb_5c879cba8d20row14_col7\" class=\"data row14 col7\" >61</td>\n",
       "                        <td id=\"T_b0bcfce3_7386_11eb_9dcb_5c879cba8d20row14_col8\" class=\"data row14 col8\" >80.990000</td>\n",
       "                        <td id=\"T_b0bcfce3_7386_11eb_9dcb_5c879cba8d20row14_col9\" class=\"data row14 col9\" >15.830000</td>\n",
       "                        <td id=\"T_b0bcfce3_7386_11eb_9dcb_5c879cba8d20row14_col10\" class=\"data row14 col10\" >0</td>\n",
       "            </tr>\n",
       "    </tbody></table>"
      ],
      "text/plain": [
       "<pandas.io.formats.style.Styler at 0x1fd20bc69d0>"
      ]
     },
     "execution_count": 9,
     "metadata": {},
     "output_type": "execute_result"
    }
   ],
   "source": [
    "df.head(15).style.highlight_max(color='orange').highlight_min(color='yellow')"
   ]
  },
  {
   "cell_type": "markdown",
   "metadata": {},
   "source": [
    "- Visually we can observe that , when the \"ReleaseNumber\",\"PriceReg\",\"LowUserPrice\",\"LowNetPrice\",\"ItemCount\" are higher the SoldFlag is 0, which means the product is less likely to be sold "
   ]
  },
  {
   "cell_type": "code",
   "execution_count": 10,
   "metadata": {},
   "outputs": [
    {
     "data": {
      "application/vnd.jupyter.widget-view+json": {
       "model_id": "d24088c782e645c8abe88d394f7fa8a1",
       "version_major": 2,
       "version_minor": 0
      },
      "text/plain": [
       "Summarize dataset:   0%|          | 0/24 [00:00<?, ?it/s]"
      ]
     },
     "metadata": {},
     "output_type": "display_data"
    },
    {
     "data": {
      "application/vnd.jupyter.widget-view+json": {
       "model_id": "e987ca69bc9048488240f15ada647432",
       "version_major": 2,
       "version_minor": 0
      },
      "text/plain": [
       "Generate report structure:   0%|          | 0/1 [00:00<?, ?it/s]"
      ]
     },
     "metadata": {},
     "output_type": "display_data"
    },
    {
     "data": {
      "application/vnd.jupyter.widget-view+json": {
       "model_id": "ebb94010ba9247fdbfa9af9f78964685",
       "version_major": 2,
       "version_minor": 0
      },
      "text/plain": [
       "Render HTML:   0%|          | 0/1 [00:00<?, ?it/s]"
      ]
     },
     "metadata": {},
     "output_type": "display_data"
    },
    {
     "data": {
      "application/vnd.jupyter.widget-view+json": {
       "model_id": "489feb600caa468d89ab77b3627e7272",
       "version_major": 2,
       "version_minor": 0
      },
      "text/plain": [
       "Export report to file:   0%|          | 0/1 [00:00<?, ?it/s]"
      ]
     },
     "metadata": {},
     "output_type": "display_data"
    }
   ],
   "source": [
    "from pandas_profiling import ProfileReport\n",
    "prof = ProfileReport(df)\n",
    "prof.to_file(output_file='report.html')"
   ]
  },
  {
   "cell_type": "markdown",
   "metadata": {},
   "source": [
    "**- The report and statistics about the data will be submitted in google classroom along with jupyter notebook**"
   ]
  },
  {
   "cell_type": "markdown",
   "metadata": {},
   "source": [
    "### Uni-Variate Analysis"
   ]
  },
  {
   "cell_type": "code",
   "execution_count": 11,
   "metadata": {},
   "outputs": [
    {
     "data": {
      "text/plain": [
       "Index(['SKU_number', 'MarketingType', 'ReleaseNumber', 'New_Release_Flag',\n",
       "       'StrengthFactor', 'PriceReg', 'ReleaseYear', 'ItemCount',\n",
       "       'LowUserPrice', 'LowNetPrice', 'SoldFlag'],\n",
       "      dtype='object')"
      ]
     },
     "execution_count": 11,
     "metadata": {},
     "output_type": "execute_result"
    }
   ],
   "source": [
    "df.columns"
   ]
  },
  {
   "cell_type": "code",
   "execution_count": 12,
   "metadata": {},
   "outputs": [
    {
     "data": {
      "text/plain": [
       "53197"
      ]
     },
     "execution_count": 12,
     "metadata": {},
     "output_type": "execute_result"
    }
   ],
   "source": [
    "df['SKU_number'].nunique()"
   ]
  },
  {
   "cell_type": "markdown",
   "metadata": {},
   "source": [
    "\"SKU_number\" - is acting as a primary key or column in our dataset, it is just the unique identifier "
   ]
  },
  {
   "cell_type": "code",
   "execution_count": 13,
   "metadata": {},
   "outputs": [],
   "source": [
    "from IPython.core.interactiveshell import InteractiveShell\n",
    "InteractiveShell.ast_node_interactivity='all'"
   ]
  },
  {
   "cell_type": "markdown",
   "metadata": {},
   "source": [
    "### 'MarketingType'"
   ]
  },
  {
   "cell_type": "code",
   "execution_count": 14,
   "metadata": {},
   "outputs": [
    {
     "data": {
      "text/plain": [
       "array(['S', 'D'], dtype=object)"
      ]
     },
     "execution_count": 14,
     "metadata": {},
     "output_type": "execute_result"
    }
   ],
   "source": [
    "df['MarketingType'].unique() #has two unique values "
   ]
  },
  {
   "cell_type": "code",
   "execution_count": 15,
   "metadata": {},
   "outputs": [
    {
     "name": "stderr",
     "output_type": "stream",
     "text": [
      "C:\\Users\\HP\\anaconda3\\lib\\site-packages\\seaborn\\_decorators.py:36: FutureWarning: Pass the following variable as a keyword arg: x. From version 0.12, the only valid positional argument will be `data`, and passing other arguments without an explicit keyword will result in an error or misinterpretation.\n",
      "  warnings.warn(\n"
     ]
    },
    {
     "data": {
      "text/plain": [
       "<matplotlib.axes._subplots.AxesSubplot at 0x1fd2fe09940>"
      ]
     },
     "execution_count": 15,
     "metadata": {},
     "output_type": "execute_result"
    },
    {
     "data": {
      "image/png": "[encoded data removed]",
      "text/plain": [
       "<Figure size 432x288 with 1 Axes>"
      ]
     },
     "metadata": {
      "needs_background": "light"
     },
     "output_type": "display_data"
    }
   ],
   "source": [
    "sns.countplot(df['MarketingType'])"
   ]
  },
  {
   "cell_type": "markdown",
   "metadata": {},
   "source": [
    "- S Marketing type products are more."
   ]
  },
  {
   "cell_type": "code",
   "execution_count": 16,
   "metadata": {},
   "outputs": [
    {
     "name": "stderr",
     "output_type": "stream",
     "text": [
      "C:\\Users\\HP\\anaconda3\\lib\\site-packages\\seaborn\\_decorators.py:36: FutureWarning: Pass the following variables as keyword args: x, y. From version 0.12, the only valid positional argument will be `data`, and passing other arguments without an explicit keyword will result in an error or misinterpretation.\n",
      "  warnings.warn(\n"
     ]
    },
    {
     "data": {
      "text/plain": [
       "<matplotlib.axes._subplots.AxesSubplot at 0x1fd337ccdf0>"
      ]
     },
     "execution_count": 16,
     "metadata": {},
     "output_type": "execute_result"
    },
    {
     "data": {
      "image/png": "[encoded data removed]",
      "text/plain": [
       "<Figure size 432x288 with 1 Axes>"
      ]
     },
     "metadata": {
      "needs_background": "light"
     },
     "output_type": "display_data"
    }
   ],
   "source": [
    "sns.barplot(df['MarketingType'],df['New_Release_Flag'])"
   ]
  },
  {
   "cell_type": "markdown",
   "metadata": {},
   "source": [
    "- S - Marketing Type has higher new released flags, which means S type products have been released more than once."
   ]
  },
  {
   "cell_type": "code",
   "execution_count": 17,
   "metadata": {},
   "outputs": [
    {
     "name": "stderr",
     "output_type": "stream",
     "text": [
      "C:\\Users\\HP\\anaconda3\\lib\\site-packages\\seaborn\\_decorators.py:36: FutureWarning: Pass the following variables as keyword args: x, y. From version 0.12, the only valid positional argument will be `data`, and passing other arguments without an explicit keyword will result in an error or misinterpretation.\n",
      "  warnings.warn(\n"
     ]
    },
    {
     "data": {
      "text/plain": [
       "<matplotlib.axes._subplots.AxesSubplot at 0x1fd33b64e80>"
      ]
     },
     "execution_count": 17,
     "metadata": {},
     "output_type": "execute_result"
    },
    {
     "data": {
      "image/png": "[encoded data removed]",
      "text/plain": [
       "<Figure size 432x288 with 1 Axes>"
      ]
     },
     "metadata": {
      "needs_background": "light"
     },
     "output_type": "display_data"
    }
   ],
   "source": [
    "sns.barplot(df['MarketingType'],df['StrengthFactor'])"
   ]
  },
  {
   "cell_type": "markdown",
   "metadata": {},
   "source": [
    "- D marketing type have more Strenghth Factor than S"
   ]
  },
  {
   "cell_type": "code",
   "execution_count": 20,
   "metadata": {},
   "outputs": [
    {
     "data": {
      "text/plain": [
       "<matplotlib.axes._subplots.AxesSubplot at 0x1fd33bb6400>"
      ]
     },
     "execution_count": 20,
     "metadata": {},
     "output_type": "execute_result"
    },
    {
     "data": {
      "image/png": "[encoded data removed]",
      "text/plain": [
       "<Figure size 432x288 with 1 Axes>"
      ]
     },
     "metadata": {
      "needs_background": "light"
     },
     "output_type": "display_data"
    }
   ],
   "source": [
    "df.groupby(\"MarketingType\").LowUserPrice.mean().sort_values(ascending=False)[:5].plot.bar(color=\"Orange\")"
   ]
  },
  {
   "cell_type": "code",
   "execution_count": 21,
   "metadata": {},
   "outputs": [
    {
     "data": {
      "text/plain": [
       "<matplotlib.axes._subplots.AxesSubplot at 0x1fd33bf8790>"
      ]
     },
     "execution_count": 21,
     "metadata": {},
     "output_type": "execute_result"
    },
    {
     "data": {
      "image/png": "[encoded data removed]",
      "text/plain": [
       "<Figure size 432x288 with 1 Axes>"
      ]
     },
     "metadata": {
      "needs_background": "light"
     },
     "output_type": "display_data"
    }
   ],
   "source": [
    "df.groupby(\"MarketingType\").PriceReg.mean().sort_values(ascending=False)[:5].plot.bar(color=\"Orange\")"
   ]
  },
  {
   "cell_type": "markdown",
   "metadata": {},
   "source": [
    "S- Type have cheap ,average \"LowUserPrice\", and PriceReg"
   ]
  },
  {
   "cell_type": "code",
   "execution_count": 22,
   "metadata": {},
   "outputs": [],
   "source": [
    "stack_bar=pd.crosstab(df['MarketingType'],df['SoldFlag'])\n"
   ]
  },
  {
   "cell_type": "code",
   "execution_count": 23,
   "metadata": {},
   "outputs": [
    {
     "data": {
      "text/html": [
       "<div>\n",
       "<style scoped>\n",
       "    .dataframe tbody tr th:only-of-type {\n",
       "        vertical-align: middle;\n",
       "    }\n",
       "\n",
       "    .dataframe tbody tr th {\n",
       "        vertical-align: top;\n",
       "    }\n",
       "\n",
       "    .dataframe thead th {\n",
       "        text-align: right;\n",
       "    }\n",
       "</style>\n",
       "<table border=\"1\" class=\"dataframe\">\n",
       "  <thead>\n",
       "    <tr style=\"text-align: right;\">\n",
       "      <th>SoldFlag</th>\n",
       "      <th>0</th>\n",
       "      <th>1</th>\n",
       "    </tr>\n",
       "    <tr>\n",
       "      <th>MarketingType</th>\n",
       "      <th></th>\n",
       "      <th></th>\n",
       "    </tr>\n",
       "  </thead>\n",
       "  <tbody>\n",
       "    <tr>\n",
       "      <th>D</th>\n",
       "      <td>18133</td>\n",
       "      <td>6431</td>\n",
       "    </tr>\n",
       "    <tr>\n",
       "      <th>S</th>\n",
       "      <td>25967</td>\n",
       "      <td>2666</td>\n",
       "    </tr>\n",
       "  </tbody>\n",
       "</table>\n",
       "</div>"
      ],
      "text/plain": [
       "SoldFlag           0     1\n",
       "MarketingType             \n",
       "D              18133  6431\n",
       "S              25967  2666"
      ]
     },
     "execution_count": 23,
     "metadata": {},
     "output_type": "execute_result"
    }
   ],
   "source": [
    "stack_bar"
   ]
  },
  {
   "cell_type": "code",
   "execution_count": 24,
   "metadata": {},
   "outputs": [
    {
     "data": {
      "text/plain": [
       "<matplotlib.axes._subplots.AxesSubplot at 0x1fd33c46f10>"
      ]
     },
     "execution_count": 24,
     "metadata": {},
     "output_type": "execute_result"
    },
    {
     "data": {
      "image/png": "[encoded data removed]",
      "text/plain": [
       "<Figure size 432x288 with 1 Axes>"
      ]
     },
     "metadata": {
      "needs_background": "light"
     },
     "output_type": "display_data"
    }
   ],
   "source": [
    "stack_bar.plot(kind='bar',stacked=True,grid=False)"
   ]
  },
  {
   "cell_type": "markdown",
   "metadata": {},
   "source": [
    "#### Summary About MarketingType\n",
    "- If the MarketingType of a product is D-Type it is more likely to be sold, than the S_Type, Although majority of Products have their MarketingType as S\n",
    "- D-Type marketing more suggestable , because it has more strenghth Factor than S, and also the Average *\"PriceReg\"* and *\"LowUserPrice\"* are more than S type Marketing ,which should ensure profits."
   ]
  },
  {
   "cell_type": "markdown",
   "metadata": {},
   "source": [
    "## ReleaseNumber"
   ]
  },
  {
   "cell_type": "code",
   "execution_count": 25,
   "metadata": {},
   "outputs": [
    {
     "data": {
      "text/plain": [
       "<matplotlib.axes._subplots.AxesSubplot at 0x1fd33caabe0>"
      ]
     },
     "execution_count": 25,
     "metadata": {},
     "output_type": "execute_result"
    },
    {
     "data": {
      "image/png": "[encoded data removed]",
      "text/plain": [
       "<Figure size 432x288 with 1 Axes>"
      ]
     },
     "metadata": {
      "needs_background": "light"
     },
     "output_type": "display_data"
    }
   ],
   "source": [
    "CT_RS=pd.crosstab(df['ReleaseNumber'],df['SoldFlag'])\n",
    "CT_RS.head(15).sort_values(by=1,ascending=False).plot(kind='bar',stacked=True,grid=False)"
   ]
  },
  {
   "cell_type": "markdown",
   "metadata": {},
   "source": [
    "- The higher the \"ReleaseNumber\" the less likely it is to be sold, The lower the \"ReleaseNumber\" , the product is most likely to be sold, the most optimum no of Releases a product should have to be sold is 2 Releases "
   ]
  },
  {
   "cell_type": "markdown",
   "metadata": {},
   "source": [
    "## StrengthFactor"
   ]
  },
  {
   "cell_type": "code",
   "execution_count": 26,
   "metadata": {},
   "outputs": [
    {
     "name": "stderr",
     "output_type": "stream",
     "text": [
      "C:\\Users\\HP\\anaconda3\\lib\\site-packages\\seaborn\\distributions.py:2557: FutureWarning: `distplot` is a deprecated function and will be removed in a future version. Please adapt your code to use either `displot` (a figure-level function with similar flexibility) or `histplot` (an axes-level function for histograms).\n",
      "  warnings.warn(msg, FutureWarning)\n"
     ]
    },
    {
     "data": {
      "text/plain": [
       "<matplotlib.axes._subplots.AxesSubplot at 0x1fd33d782e0>"
      ]
     },
     "execution_count": 26,
     "metadata": {},
     "output_type": "execute_result"
    },
    {
     "data": {
      "image/png": "[encoded data removed]",
      "text/plain": [
       "<Figure size 432x288 with 1 Axes>"
      ]
     },
     "metadata": {
      "needs_background": "light"
     },
     "output_type": "display_data"
    }
   ],
   "source": [
    "sns.distplot(df[\"StrengthFactor\"])"
   ]
  },
  {
   "cell_type": "markdown",
   "metadata": {},
   "source": [
    "- StreghthFactor is highly positive skewed data"
   ]
  },
  {
   "cell_type": "code",
   "execution_count": 27,
   "metadata": {},
   "outputs": [
    {
     "data": {
      "text/plain": [
       "0        14.043364\n",
       "1        12.247234\n",
       "2        10.826535\n",
       "3        14.123918\n",
       "4        15.139936\n",
       "           ...    \n",
       "53192    13.317150\n",
       "53193    12.800443\n",
       "53194    15.614929\n",
       "53195    13.788502\n",
       "53196    15.235952\n",
       "Name: StrengthFactor, Length: 53197, dtype: float64"
      ]
     },
     "execution_count": 27,
     "metadata": {},
     "output_type": "execute_result"
    }
   ],
   "source": [
    "log_SF=np.log(df['StrengthFactor'])\n",
    "log_SF"
   ]
  },
  {
   "cell_type": "markdown",
   "metadata": {},
   "source": [
    "- Since the Strenghth factor is highly positive skewed, we have used log to scale down the column"
   ]
  },
  {
   "cell_type": "code",
   "execution_count": 28,
   "metadata": {},
   "outputs": [
    {
     "data": {
      "text/plain": [
       "<Figure size 720x576 with 0 Axes>"
      ]
     },
     "execution_count": 28,
     "metadata": {},
     "output_type": "execute_result"
    },
    {
     "name": "stderr",
     "output_type": "stream",
     "text": [
      "C:\\Users\\HP\\anaconda3\\lib\\site-packages\\seaborn\\_decorators.py:36: FutureWarning: Pass the following variables as keyword args: x, y. From version 0.12, the only valid positional argument will be `data`, and passing other arguments without an explicit keyword will result in an error or misinterpretation.\n",
      "  warnings.warn(\n"
     ]
    },
    {
     "data": {
      "text/plain": [
       "<matplotlib.axes._subplots.AxesSubplot at 0x1fd33dda160>"
      ]
     },
     "execution_count": 28,
     "metadata": {},
     "output_type": "execute_result"
    },
    {
     "data": {
      "image/png": "[encoded data removed]",
      "text/plain": [
       "<Figure size 720x576 with 1 Axes>"
      ]
     },
     "metadata": {
      "needs_background": "light"
     },
     "output_type": "display_data"
    }
   ],
   "source": [
    "plt.figure(figsize=(10,8))\n",
    "sns.scatterplot(df['PriceReg'],log_SF,hue=df[\"SoldFlag\"])"
   ]
  },
  {
   "cell_type": "markdown",
   "metadata": {},
   "source": [
    "- The higher the PriceReg, the higher StrengthFactor"
   ]
  },
  {
   "cell_type": "code",
   "execution_count": 29,
   "metadata": {
    "scrolled": true
   },
   "outputs": [
    {
     "name": "stderr",
     "output_type": "stream",
     "text": [
      "C:\\Users\\HP\\anaconda3\\lib\\site-packages\\seaborn\\_decorators.py:36: FutureWarning: Pass the following variables as keyword args: x, y. From version 0.12, the only valid positional argument will be `data`, and passing other arguments without an explicit keyword will result in an error or misinterpretation.\n",
      "  warnings.warn(\n"
     ]
    },
    {
     "data": {
      "text/plain": [
       "<matplotlib.axes._subplots.AxesSubplot at 0x1fd33f8feb0>"
      ]
     },
     "execution_count": 29,
     "metadata": {},
     "output_type": "execute_result"
    },
    {
     "data": {
      "image/png": "[encoded data removed]",
      "text/plain": [
       "<Figure size 432x288 with 1 Axes>"
      ]
     },
     "metadata": {
      "needs_background": "light"
     },
     "output_type": "display_data"
    }
   ],
   "source": [
    "sns.scatterplot(df['PriceReg'],df[\"SoldFlag\"])"
   ]
  },
  {
   "cell_type": "markdown",
   "metadata": {},
   "source": [
    "- Just by looking at the PriceReg we cannot determine whether a product will be sold or not"
   ]
  },
  {
   "cell_type": "code",
   "execution_count": 30,
   "metadata": {},
   "outputs": [
    {
     "name": "stderr",
     "output_type": "stream",
     "text": [
      "C:\\Users\\HP\\anaconda3\\lib\\site-packages\\seaborn\\_decorators.py:36: FutureWarning: Pass the following variables as keyword args: x, y. From version 0.12, the only valid positional argument will be `data`, and passing other arguments without an explicit keyword will result in an error or misinterpretation.\n",
      "  warnings.warn(\n"
     ]
    },
    {
     "data": {
      "text/plain": [
       "<matplotlib.axes._subplots.AxesSubplot at 0x1fd348b8d30>"
      ]
     },
     "execution_count": 30,
     "metadata": {},
     "output_type": "execute_result"
    },
    {
     "data": {
      "image/png": "[encoded data removed]",
      "text/plain": [
       "<Figure size 432x288 with 1 Axes>"
      ]
     },
     "metadata": {
      "needs_background": "light"
     },
     "output_type": "display_data"
    }
   ],
   "source": [
    "sns.scatterplot(df[\"ReleaseYear\"],df[\"PriceReg\"],hue=df[\"SoldFlag\"])"
   ]
  },
  {
   "cell_type": "markdown",
   "metadata": {},
   "source": [
    "- With the increase in ReleaseYear, the PriceReg is increasing to an extent."
   ]
  },
  {
   "cell_type": "markdown",
   "metadata": {},
   "source": [
    "### ItemsCount"
   ]
  },
  {
   "cell_type": "markdown",
   "metadata": {},
   "source": [
    "### Summary of all columns"
   ]
  },
  {
   "cell_type": "code",
   "execution_count": 31,
   "metadata": {},
   "outputs": [
    {
     "data": {
      "image/png": "[encoded data removed]",
      "text/plain": [
       "<Figure size 864x720 with 12 Axes>"
      ]
     },
     "metadata": {
      "needs_background": "light"
     },
     "output_type": "display_data"
    }
   ],
   "source": [
    "df.hist(figsize=(12, 10), bins=50, xlabelsize=8, ylabelsize=8);"
   ]
  },
  {
   "cell_type": "code",
   "execution_count": 32,
   "metadata": {},
   "outputs": [
    {
     "data": {
      "text/plain": [
       "SKU_number            int64\n",
       "MarketingType        object\n",
       "ReleaseNumber         int64\n",
       "New_Release_Flag      int64\n",
       "StrengthFactor        int64\n",
       "PriceReg            float64\n",
       "ReleaseYear           int64\n",
       "ItemCount             int64\n",
       "LowUserPrice        float64\n",
       "LowNetPrice         float64\n",
       "SoldFlag              int64\n",
       "dtype: object"
      ]
     },
     "execution_count": 32,
     "metadata": {},
     "output_type": "execute_result"
    }
   ],
   "source": [
    "df.dtypes"
   ]
  },
  {
   "cell_type": "markdown",
   "metadata": {},
   "source": [
    "- To make our analysis easier let's separate the numerical and categorical columns"
   ]
  },
  {
   "cell_type": "code",
   "execution_count": 33,
   "metadata": {},
   "outputs": [
    {
     "data": {
      "text/html": [
       "<div>\n",
       "<style scoped>\n",
       "    .dataframe tbody tr th:only-of-type {\n",
       "        vertical-align: middle;\n",
       "    }\n",
       "\n",
       "    .dataframe tbody tr th {\n",
       "        vertical-align: top;\n",
       "    }\n",
       "\n",
       "    .dataframe thead th {\n",
       "        text-align: right;\n",
       "    }\n",
       "</style>\n",
       "<table border=\"1\" class=\"dataframe\">\n",
       "  <thead>\n",
       "    <tr style=\"text-align: right;\">\n",
       "      <th></th>\n",
       "      <th>MarketingType</th>\n",
       "    </tr>\n",
       "  </thead>\n",
       "  <tbody>\n",
       "    <tr>\n",
       "      <th>0</th>\n",
       "      <td>S</td>\n",
       "    </tr>\n",
       "    <tr>\n",
       "      <th>1</th>\n",
       "      <td>S</td>\n",
       "    </tr>\n",
       "    <tr>\n",
       "      <th>2</th>\n",
       "      <td>D</td>\n",
       "    </tr>\n",
       "    <tr>\n",
       "      <th>3</th>\n",
       "      <td>S</td>\n",
       "    </tr>\n",
       "    <tr>\n",
       "      <th>4</th>\n",
       "      <td>D</td>\n",
       "    </tr>\n",
       "    <tr>\n",
       "      <th>...</th>\n",
       "      <td>...</td>\n",
       "    </tr>\n",
       "    <tr>\n",
       "      <th>53192</th>\n",
       "      <td>S</td>\n",
       "    </tr>\n",
       "    <tr>\n",
       "      <th>53193</th>\n",
       "      <td>D</td>\n",
       "    </tr>\n",
       "    <tr>\n",
       "      <th>53194</th>\n",
       "      <td>D</td>\n",
       "    </tr>\n",
       "    <tr>\n",
       "      <th>53195</th>\n",
       "      <td>D</td>\n",
       "    </tr>\n",
       "    <tr>\n",
       "      <th>53196</th>\n",
       "      <td>S</td>\n",
       "    </tr>\n",
       "  </tbody>\n",
       "</table>\n",
       "<p>53197 rows × 1 columns</p>\n",
       "</div>"
      ],
      "text/plain": [
       "      MarketingType\n",
       "0                 S\n",
       "1                 S\n",
       "2                 D\n",
       "3                 S\n",
       "4                 D\n",
       "...             ...\n",
       "53192             S\n",
       "53193             D\n",
       "53194             D\n",
       "53195             D\n",
       "53196             S\n",
       "\n",
       "[53197 rows x 1 columns]"
      ]
     },
     "execution_count": 33,
     "metadata": {},
     "output_type": "execute_result"
    }
   ],
   "source": [
    "cat_df = df.select_dtypes(include = ['O'])\n",
    "cat_df"
   ]
  },
  {
   "cell_type": "code",
   "execution_count": 34,
   "metadata": {},
   "outputs": [
    {
     "data": {
      "text/html": [
       "<div>\n",
       "<style scoped>\n",
       "    .dataframe tbody tr th:only-of-type {\n",
       "        vertical-align: middle;\n",
       "    }\n",
       "\n",
       "    .dataframe tbody tr th {\n",
       "        vertical-align: top;\n",
       "    }\n",
       "\n",
       "    .dataframe thead th {\n",
       "        text-align: right;\n",
       "    }\n",
       "</style>\n",
       "<table border=\"1\" class=\"dataframe\">\n",
       "  <thead>\n",
       "    <tr style=\"text-align: right;\">\n",
       "      <th></th>\n",
       "      <th>SKU_number</th>\n",
       "      <th>ReleaseNumber</th>\n",
       "      <th>New_Release_Flag</th>\n",
       "      <th>StrengthFactor</th>\n",
       "      <th>PriceReg</th>\n",
       "      <th>ReleaseYear</th>\n",
       "      <th>ItemCount</th>\n",
       "      <th>LowUserPrice</th>\n",
       "      <th>LowNetPrice</th>\n",
       "      <th>SoldFlag</th>\n",
       "    </tr>\n",
       "  </thead>\n",
       "  <tbody>\n",
       "    <tr>\n",
       "      <th>0</th>\n",
       "      <td>266198</td>\n",
       "      <td>0</td>\n",
       "      <td>0</td>\n",
       "      <td>1255901</td>\n",
       "      <td>32.50</td>\n",
       "      <td>2004</td>\n",
       "      <td>26</td>\n",
       "      <td>27.57</td>\n",
       "      <td>10.99</td>\n",
       "      <td>0</td>\n",
       "    </tr>\n",
       "    <tr>\n",
       "      <th>1</th>\n",
       "      <td>2405151</td>\n",
       "      <td>0</td>\n",
       "      <td>0</td>\n",
       "      <td>208404</td>\n",
       "      <td>70.00</td>\n",
       "      <td>1988</td>\n",
       "      <td>21</td>\n",
       "      <td>15.99</td>\n",
       "      <td>40.02</td>\n",
       "      <td>1</td>\n",
       "    </tr>\n",
       "    <tr>\n",
       "      <th>2</th>\n",
       "      <td>528384</td>\n",
       "      <td>9</td>\n",
       "      <td>1</td>\n",
       "      <td>50339</td>\n",
       "      <td>324.95</td>\n",
       "      <td>2013</td>\n",
       "      <td>53</td>\n",
       "      <td>149.73</td>\n",
       "      <td>123.94</td>\n",
       "      <td>0</td>\n",
       "    </tr>\n",
       "    <tr>\n",
       "      <th>3</th>\n",
       "      <td>571691</td>\n",
       "      <td>4</td>\n",
       "      <td>1</td>\n",
       "      <td>1361255</td>\n",
       "      <td>39.95</td>\n",
       "      <td>2005</td>\n",
       "      <td>67</td>\n",
       "      <td>10.59</td>\n",
       "      <td>7.59</td>\n",
       "      <td>0</td>\n",
       "    </tr>\n",
       "    <tr>\n",
       "      <th>4</th>\n",
       "      <td>2363274</td>\n",
       "      <td>1</td>\n",
       "      <td>0</td>\n",
       "      <td>3760024</td>\n",
       "      <td>144.00</td>\n",
       "      <td>2004</td>\n",
       "      <td>13</td>\n",
       "      <td>43.94</td>\n",
       "      <td>33.99</td>\n",
       "      <td>0</td>\n",
       "    </tr>\n",
       "    <tr>\n",
       "      <th>...</th>\n",
       "      <td>...</td>\n",
       "      <td>...</td>\n",
       "      <td>...</td>\n",
       "      <td>...</td>\n",
       "      <td>...</td>\n",
       "      <td>...</td>\n",
       "      <td>...</td>\n",
       "      <td>...</td>\n",
       "      <td>...</td>\n",
       "      <td>...</td>\n",
       "    </tr>\n",
       "    <tr>\n",
       "      <th>53192</th>\n",
       "      <td>3059530</td>\n",
       "      <td>0</td>\n",
       "      <td>0</td>\n",
       "      <td>607526</td>\n",
       "      <td>99.95</td>\n",
       "      <td>2003</td>\n",
       "      <td>22</td>\n",
       "      <td>253.92</td>\n",
       "      <td>99.76</td>\n",
       "      <td>0</td>\n",
       "    </tr>\n",
       "    <tr>\n",
       "      <th>53193</th>\n",
       "      <td>57540</td>\n",
       "      <td>11</td>\n",
       "      <td>1</td>\n",
       "      <td>362378</td>\n",
       "      <td>30.60</td>\n",
       "      <td>2006</td>\n",
       "      <td>87</td>\n",
       "      <td>93.98</td>\n",
       "      <td>18.97</td>\n",
       "      <td>1</td>\n",
       "    </tr>\n",
       "    <tr>\n",
       "      <th>53194</th>\n",
       "      <td>2471534</td>\n",
       "      <td>2</td>\n",
       "      <td>1</td>\n",
       "      <td>6046130</td>\n",
       "      <td>40.95</td>\n",
       "      <td>1996</td>\n",
       "      <td>16</td>\n",
       "      <td>0.00</td>\n",
       "      <td>32.48</td>\n",
       "      <td>0</td>\n",
       "    </tr>\n",
       "    <tr>\n",
       "      <th>53195</th>\n",
       "      <td>567658</td>\n",
       "      <td>8</td>\n",
       "      <td>1</td>\n",
       "      <td>973353</td>\n",
       "      <td>105.95</td>\n",
       "      <td>2008</td>\n",
       "      <td>45</td>\n",
       "      <td>52.69</td>\n",
       "      <td>23.99</td>\n",
       "      <td>0</td>\n",
       "    </tr>\n",
       "    <tr>\n",
       "      <th>53196</th>\n",
       "      <td>183696</td>\n",
       "      <td>3</td>\n",
       "      <td>1</td>\n",
       "      <td>4138946</td>\n",
       "      <td>242.95</td>\n",
       "      <td>2006</td>\n",
       "      <td>19</td>\n",
       "      <td>13.90</td>\n",
       "      <td>53.89</td>\n",
       "      <td>0</td>\n",
       "    </tr>\n",
       "  </tbody>\n",
       "</table>\n",
       "<p>53197 rows × 10 columns</p>\n",
       "</div>"
      ],
      "text/plain": [
       "       SKU_number  ReleaseNumber  New_Release_Flag  StrengthFactor  PriceReg  \\\n",
       "0          266198              0                 0         1255901     32.50   \n",
       "1         2405151              0                 0          208404     70.00   \n",
       "2          528384              9                 1           50339    324.95   \n",
       "3          571691              4                 1         1361255     39.95   \n",
       "4         2363274              1                 0         3760024    144.00   \n",
       "...           ...            ...               ...             ...       ...   \n",
       "53192     3059530              0                 0          607526     99.95   \n",
       "53193       57540             11                 1          362378     30.60   \n",
       "53194     2471534              2                 1         6046130     40.95   \n",
       "53195      567658              8                 1          973353    105.95   \n",
       "53196      183696              3                 1         4138946    242.95   \n",
       "\n",
       "       ReleaseYear  ItemCount  LowUserPrice  LowNetPrice  SoldFlag  \n",
       "0             2004         26         27.57        10.99         0  \n",
       "1             1988         21         15.99        40.02         1  \n",
       "2             2013         53        149.73       123.94         0  \n",
       "3             2005         67         10.59         7.59         0  \n",
       "4             2004         13         43.94        33.99         0  \n",
       "...            ...        ...           ...          ...       ...  \n",
       "53192         2003         22        253.92        99.76         0  \n",
       "53193         2006         87         93.98        18.97         1  \n",
       "53194         1996         16          0.00        32.48         0  \n",
       "53195         2008         45         52.69        23.99         0  \n",
       "53196         2006         19         13.90        53.89         0  \n",
       "\n",
       "[53197 rows x 10 columns]"
      ]
     },
     "execution_count": 34,
     "metadata": {},
     "output_type": "execute_result"
    }
   ],
   "source": [
    "num_df = df.select_dtypes(exclude = ['O'])\n",
    "num_df"
   ]
  },
  {
   "cell_type": "code",
   "execution_count": 35,
   "metadata": {},
   "outputs": [
    {
     "data": {
      "text/plain": [
       "<Figure size 432x288 with 0 Axes>"
      ]
     },
     "execution_count": 35,
     "metadata": {},
     "output_type": "execute_result"
    },
    {
     "name": "stderr",
     "output_type": "stream",
     "text": [
      "C:\\Users\\HP\\anaconda3\\lib\\site-packages\\seaborn\\_decorators.py:36: FutureWarning: Pass the following variable as a keyword arg: x. From version 0.12, the only valid positional argument will be `data`, and passing other arguments without an explicit keyword will result in an error or misinterpretation.\n",
      "  warnings.warn(\n"
     ]
    },
    {
     "data": {
      "text/plain": [
       "<matplotlib.axes._subplots.AxesSubplot at 0x1fd33c3c190>"
      ]
     },
     "execution_count": 35,
     "metadata": {},
     "output_type": "execute_result"
    },
    {
     "data": {
      "text/plain": [
       "<Figure size 432x288 with 0 Axes>"
      ]
     },
     "execution_count": 35,
     "metadata": {},
     "output_type": "execute_result"
    },
    {
     "name": "stderr",
     "output_type": "stream",
     "text": [
      "C:\\Users\\HP\\anaconda3\\lib\\site-packages\\seaborn\\_decorators.py:36: FutureWarning: Pass the following variable as a keyword arg: x. From version 0.12, the only valid positional argument will be `data`, and passing other arguments without an explicit keyword will result in an error or misinterpretation.\n",
      "  warnings.warn(\n"
     ]
    },
    {
     "data": {
      "text/plain": [
       "<matplotlib.axes._subplots.AxesSubplot at 0x1fd367c9b50>"
      ]
     },
     "execution_count": 35,
     "metadata": {},
     "output_type": "execute_result"
    },
    {
     "data": {
      "text/plain": [
       "<Figure size 432x288 with 0 Axes>"
      ]
     },
     "execution_count": 35,
     "metadata": {},
     "output_type": "execute_result"
    },
    {
     "name": "stderr",
     "output_type": "stream",
     "text": [
      "C:\\Users\\HP\\anaconda3\\lib\\site-packages\\seaborn\\_decorators.py:36: FutureWarning: Pass the following variable as a keyword arg: x. From version 0.12, the only valid positional argument will be `data`, and passing other arguments without an explicit keyword will result in an error or misinterpretation.\n",
      "  warnings.warn(\n"
     ]
    },
    {
     "data": {
      "text/plain": [
       "<matplotlib.axes._subplots.AxesSubplot at 0x1fd36a70220>"
      ]
     },
     "execution_count": 35,
     "metadata": {},
     "output_type": "execute_result"
    },
    {
     "data": {
      "text/plain": [
       "<Figure size 432x288 with 0 Axes>"
      ]
     },
     "execution_count": 35,
     "metadata": {},
     "output_type": "execute_result"
    },
    {
     "name": "stderr",
     "output_type": "stream",
     "text": [
      "C:\\Users\\HP\\anaconda3\\lib\\site-packages\\seaborn\\_decorators.py:36: FutureWarning: Pass the following variable as a keyword arg: x. From version 0.12, the only valid positional argument will be `data`, and passing other arguments without an explicit keyword will result in an error or misinterpretation.\n",
      "  warnings.warn(\n"
     ]
    },
    {
     "data": {
      "text/plain": [
       "<matplotlib.axes._subplots.AxesSubplot at 0x1fd373ccc70>"
      ]
     },
     "execution_count": 35,
     "metadata": {},
     "output_type": "execute_result"
    },
    {
     "data": {
      "text/plain": [
       "<Figure size 432x288 with 0 Axes>"
      ]
     },
     "execution_count": 35,
     "metadata": {},
     "output_type": "execute_result"
    },
    {
     "name": "stderr",
     "output_type": "stream",
     "text": [
      "C:\\Users\\HP\\anaconda3\\lib\\site-packages\\seaborn\\_decorators.py:36: FutureWarning: Pass the following variable as a keyword arg: x. From version 0.12, the only valid positional argument will be `data`, and passing other arguments without an explicit keyword will result in an error or misinterpretation.\n",
      "  warnings.warn(\n"
     ]
    },
    {
     "data": {
      "text/plain": [
       "<matplotlib.axes._subplots.AxesSubplot at 0x1fd373d4c40>"
      ]
     },
     "execution_count": 35,
     "metadata": {},
     "output_type": "execute_result"
    },
    {
     "data": {
      "text/plain": [
       "<Figure size 432x288 with 0 Axes>"
      ]
     },
     "execution_count": 35,
     "metadata": {},
     "output_type": "execute_result"
    },
    {
     "name": "stderr",
     "output_type": "stream",
     "text": [
      "C:\\Users\\HP\\anaconda3\\lib\\site-packages\\seaborn\\_decorators.py:36: FutureWarning: Pass the following variable as a keyword arg: x. From version 0.12, the only valid positional argument will be `data`, and passing other arguments without an explicit keyword will result in an error or misinterpretation.\n",
      "  warnings.warn(\n"
     ]
    },
    {
     "data": {
      "text/plain": [
       "<matplotlib.axes._subplots.AxesSubplot at 0x1fd374821c0>"
      ]
     },
     "execution_count": 35,
     "metadata": {},
     "output_type": "execute_result"
    },
    {
     "data": {
      "text/plain": [
       "<Figure size 432x288 with 0 Axes>"
      ]
     },
     "execution_count": 35,
     "metadata": {},
     "output_type": "execute_result"
    },
    {
     "name": "stderr",
     "output_type": "stream",
     "text": [
      "C:\\Users\\HP\\anaconda3\\lib\\site-packages\\seaborn\\_decorators.py:36: FutureWarning: Pass the following variable as a keyword arg: x. From version 0.12, the only valid positional argument will be `data`, and passing other arguments without an explicit keyword will result in an error or misinterpretation.\n",
      "  warnings.warn(\n"
     ]
    },
    {
     "data": {
      "text/plain": [
       "<matplotlib.axes._subplots.AxesSubplot at 0x1fd374cbfa0>"
      ]
     },
     "execution_count": 35,
     "metadata": {},
     "output_type": "execute_result"
    },
    {
     "data": {
      "text/plain": [
       "<Figure size 432x288 with 0 Axes>"
      ]
     },
     "execution_count": 35,
     "metadata": {},
     "output_type": "execute_result"
    },
    {
     "name": "stderr",
     "output_type": "stream",
     "text": [
      "C:\\Users\\HP\\anaconda3\\lib\\site-packages\\seaborn\\_decorators.py:36: FutureWarning: Pass the following variable as a keyword arg: x. From version 0.12, the only valid positional argument will be `data`, and passing other arguments without an explicit keyword will result in an error or misinterpretation.\n",
      "  warnings.warn(\n"
     ]
    },
    {
     "data": {
      "text/plain": [
       "<matplotlib.axes._subplots.AxesSubplot at 0x1fd374b3a00>"
      ]
     },
     "execution_count": 35,
     "metadata": {},
     "output_type": "execute_result"
    },
    {
     "data": {
      "text/plain": [
       "<Figure size 432x288 with 0 Axes>"
      ]
     },
     "execution_count": 35,
     "metadata": {},
     "output_type": "execute_result"
    },
    {
     "name": "stderr",
     "output_type": "stream",
     "text": [
      "C:\\Users\\HP\\anaconda3\\lib\\site-packages\\seaborn\\_decorators.py:36: FutureWarning: Pass the following variable as a keyword arg: x. From version 0.12, the only valid positional argument will be `data`, and passing other arguments without an explicit keyword will result in an error or misinterpretation.\n",
      "  warnings.warn(\n"
     ]
    },
    {
     "data": {
      "text/plain": [
       "<matplotlib.axes._subplots.AxesSubplot at 0x1fd37519520>"
      ]
     },
     "execution_count": 35,
     "metadata": {},
     "output_type": "execute_result"
    },
    {
     "data": {
      "text/plain": [
       "<Figure size 432x288 with 0 Axes>"
      ]
     },
     "execution_count": 35,
     "metadata": {},
     "output_type": "execute_result"
    },
    {
     "name": "stderr",
     "output_type": "stream",
     "text": [
      "C:\\Users\\HP\\anaconda3\\lib\\site-packages\\seaborn\\_decorators.py:36: FutureWarning: Pass the following variable as a keyword arg: x. From version 0.12, the only valid positional argument will be `data`, and passing other arguments without an explicit keyword will result in an error or misinterpretation.\n",
      "  warnings.warn(\n"
     ]
    },
    {
     "data": {
      "text/plain": [
       "<matplotlib.axes._subplots.AxesSubplot at 0x1fd37595f40>"
      ]
     },
     "execution_count": 35,
     "metadata": {},
     "output_type": "execute_result"
    },
    {
     "data": {
      "image/png": "[encoded data removed]",
      "text/plain": [
       "<Figure size 432x288 with 1 Axes>"
      ]
     },
     "metadata": {
      "needs_background": "light"
     },
     "output_type": "display_data"
    },
    {
     "data": {
      "image/png": "[encoded data removed]",
      "text/plain": [
       "<Figure size 432x288 with 1 Axes>"
      ]
     },
     "metadata": {
      "needs_background": "light"
     },
     "output_type": "display_data"
    },
    {
     "data": {
      "image/png": "[encoded data removed]",
      "text/plain": [
       "<Figure size 432x288 with 1 Axes>"
      ]
     },
     "metadata": {
      "needs_background": "light"
     },
     "output_type": "display_data"
    },
    {
     "data": {
      "image/png": "[encoded data removed]",
      "text/plain": [
       "<Figure size 432x288 with 1 Axes>"
      ]
     },
     "metadata": {
      "needs_background": "light"
     },
     "output_type": "display_data"
    },
    {
     "data": {
      "image/png": "[encoded data removed]",
      "text/plain": [
       "<Figure size 432x288 with 1 Axes>"
      ]
     },
     "metadata": {
      "needs_background": "light"
     },
     "output_type": "display_data"
    },
    {
     "data": {
      "image/png": "[encoded data removed]",
      "text/plain": [
       "<Figure size 432x288 with 1 Axes>"
      ]
     },
     "metadata": {
      "needs_background": "light"
     },
     "output_type": "display_data"
    },
    {
     "data": {
      "image/png": "[encoded data removed]",
      "text/plain": [
       "<Figure size 432x288 with 1 Axes>"
      ]
     },
     "metadata": {
      "needs_background": "light"
     },
     "output_type": "display_data"
    },
    {
     "data": {
      "image/png": "[encoded data removed]",
      "text/plain": [
       "<Figure size 432x288 with 1 Axes>"
      ]
     },
     "metadata": {
      "needs_background": "light"
     },
     "output_type": "display_data"
    },
    {
     "data": {
      "image/png": "[encoded data removed]",
      "text/plain": [
       "<Figure size 432x288 with 1 Axes>"
      ]
     },
     "metadata": {
      "needs_background": "light"
     },
     "output_type": "display_data"
    },
    {
     "data": {
      "image/png": "[encoded data removed]",
      "text/plain": [
       "<Figure size 432x288 with 1 Axes>"
      ]
     },
     "metadata": {
      "needs_background": "light"
     },
     "output_type": "display_data"
    }
   ],
   "source": [
    "import matplotlib.pyplot as plt\n",
    "\n",
    "\n",
    "for column in num_df:\n",
    "    plt.figure()\n",
    "    sns.boxplot(df[column])"
   ]
  },
  {
   "cell_type": "markdown",
   "metadata": {},
   "source": [
    "- Almost all the columns have outliers"
   ]
  },
  {
   "cell_type": "markdown",
   "metadata": {},
   "source": [
    "## Let's Understand the relationship between the attributes"
   ]
  },
  {
   "cell_type": "code",
   "execution_count": 36,
   "metadata": {},
   "outputs": [
    {
     "data": {
      "text/plain": [
       "<matplotlib.axes._subplots.AxesSubplot at 0x1fd36720400>"
      ]
     },
     "execution_count": 36,
     "metadata": {},
     "output_type": "execute_result"
    },
    {
     "data": {
      "text/plain": [
       "<module 'matplotlib.pyplot' from 'C:\\\\Users\\\\HP\\\\anaconda3\\\\lib\\\\site-packages\\\\matplotlib\\\\pyplot.py'>"
      ]
     },
     "execution_count": 36,
     "metadata": {},
     "output_type": "execute_result"
    },
    {
     "data": {
      "image/png": "[encoded data removed]",
      "text/plain": [
       "<Figure size 1296x1296 with 2 Axes>"
      ]
     },
     "metadata": {
      "needs_background": "light"
     },
     "output_type": "display_data"
    }
   ],
   "source": [
    "f,ax = plt.subplots(figsize=(18, 18))\n",
    "sns.heatmap(df.corr(), annot=True, linewidths=.5, fmt= '.1f',ax=ax)\n",
    "plt"
   ]
  },
  {
   "cell_type": "markdown",
   "metadata": {},
   "source": [
    "- All the columns have very less correlation among themselves"
   ]
  },
  {
   "cell_type": "markdown",
   "metadata": {},
   "source": [
    "### PreProcessing"
   ]
  },
  {
   "cell_type": "code",
   "execution_count": 41,
   "metadata": {},
   "outputs": [],
   "source": [
    "from sklearn.preprocessing import LabelEncoder\n",
    "from sklearn.ensemble import RandomForestClassifier\n",
    "from sklearn.ensemble import GradientBoostingClassifier\n",
    "from sklearn.ensemble import AdaBoostClassifier\n",
    "from sklearn.tree import DecisionTreeClassifier\n",
    "from sklearn.metrics import confusion_matrix, classification_report\n",
    "from sklearn.model_selection import train_test_split\n",
    "from sklearn.linear_model import LogisticRegression\n",
    "from sklearn.metrics import cohen_kappa_score\n",
    "import itertools\n",
    "from sklearn.metrics import *\n"
   ]
  },
  {
   "cell_type": "code",
   "execution_count": 42,
   "metadata": {},
   "outputs": [],
   "source": [
    "le = LabelEncoder()\n",
    "df_mt= pd.DataFrame(le.fit_transform(df.MarketingType),columns = [\"Marketing_Type\"])\n",
    "df_new = pd.concat([df,df_mt],axis = 1)\n",
    "df_new.drop(columns=\"MarketingType\",inplace=True)"
   ]
  },
  {
   "cell_type": "code",
   "execution_count": 43,
   "metadata": {},
   "outputs": [
    {
     "data": {
      "text/html": [
       "<div>\n",
       "<style scoped>\n",
       "    .dataframe tbody tr th:only-of-type {\n",
       "        vertical-align: middle;\n",
       "    }\n",
       "\n",
       "    .dataframe tbody tr th {\n",
       "        vertical-align: top;\n",
       "    }\n",
       "\n",
       "    .dataframe thead th {\n",
       "        text-align: right;\n",
       "    }\n",
       "</style>\n",
       "<table border=\"1\" class=\"dataframe\">\n",
       "  <thead>\n",
       "    <tr style=\"text-align: right;\">\n",
       "      <th></th>\n",
       "      <th>SKU_number</th>\n",
       "      <th>ReleaseNumber</th>\n",
       "      <th>New_Release_Flag</th>\n",
       "      <th>StrengthFactor</th>\n",
       "      <th>PriceReg</th>\n",
       "      <th>ReleaseYear</th>\n",
       "      <th>ItemCount</th>\n",
       "      <th>LowUserPrice</th>\n",
       "      <th>LowNetPrice</th>\n",
       "      <th>SoldFlag</th>\n",
       "      <th>Marketing_Type</th>\n",
       "    </tr>\n",
       "  </thead>\n",
       "  <tbody>\n",
       "    <tr>\n",
       "      <th>0</th>\n",
       "      <td>266198</td>\n",
       "      <td>0</td>\n",
       "      <td>0</td>\n",
       "      <td>1255901</td>\n",
       "      <td>32.50</td>\n",
       "      <td>2004</td>\n",
       "      <td>26</td>\n",
       "      <td>27.57</td>\n",
       "      <td>10.99</td>\n",
       "      <td>0</td>\n",
       "      <td>1</td>\n",
       "    </tr>\n",
       "    <tr>\n",
       "      <th>1</th>\n",
       "      <td>2405151</td>\n",
       "      <td>0</td>\n",
       "      <td>0</td>\n",
       "      <td>208404</td>\n",
       "      <td>70.00</td>\n",
       "      <td>1988</td>\n",
       "      <td>21</td>\n",
       "      <td>15.99</td>\n",
       "      <td>40.02</td>\n",
       "      <td>1</td>\n",
       "      <td>1</td>\n",
       "    </tr>\n",
       "    <tr>\n",
       "      <th>2</th>\n",
       "      <td>528384</td>\n",
       "      <td>9</td>\n",
       "      <td>1</td>\n",
       "      <td>50339</td>\n",
       "      <td>324.95</td>\n",
       "      <td>2013</td>\n",
       "      <td>53</td>\n",
       "      <td>149.73</td>\n",
       "      <td>123.94</td>\n",
       "      <td>0</td>\n",
       "      <td>0</td>\n",
       "    </tr>\n",
       "    <tr>\n",
       "      <th>3</th>\n",
       "      <td>571691</td>\n",
       "      <td>4</td>\n",
       "      <td>1</td>\n",
       "      <td>1361255</td>\n",
       "      <td>39.95</td>\n",
       "      <td>2005</td>\n",
       "      <td>67</td>\n",
       "      <td>10.59</td>\n",
       "      <td>7.59</td>\n",
       "      <td>0</td>\n",
       "      <td>1</td>\n",
       "    </tr>\n",
       "    <tr>\n",
       "      <th>4</th>\n",
       "      <td>2363274</td>\n",
       "      <td>1</td>\n",
       "      <td>0</td>\n",
       "      <td>3760024</td>\n",
       "      <td>144.00</td>\n",
       "      <td>2004</td>\n",
       "      <td>13</td>\n",
       "      <td>43.94</td>\n",
       "      <td>33.99</td>\n",
       "      <td>0</td>\n",
       "      <td>0</td>\n",
       "    </tr>\n",
       "    <tr>\n",
       "      <th>...</th>\n",
       "      <td>...</td>\n",
       "      <td>...</td>\n",
       "      <td>...</td>\n",
       "      <td>...</td>\n",
       "      <td>...</td>\n",
       "      <td>...</td>\n",
       "      <td>...</td>\n",
       "      <td>...</td>\n",
       "      <td>...</td>\n",
       "      <td>...</td>\n",
       "      <td>...</td>\n",
       "    </tr>\n",
       "    <tr>\n",
       "      <th>53192</th>\n",
       "      <td>3059530</td>\n",
       "      <td>0</td>\n",
       "      <td>0</td>\n",
       "      <td>607526</td>\n",
       "      <td>99.95</td>\n",
       "      <td>2003</td>\n",
       "      <td>22</td>\n",
       "      <td>253.92</td>\n",
       "      <td>99.76</td>\n",
       "      <td>0</td>\n",
       "      <td>1</td>\n",
       "    </tr>\n",
       "    <tr>\n",
       "      <th>53193</th>\n",
       "      <td>57540</td>\n",
       "      <td>11</td>\n",
       "      <td>1</td>\n",
       "      <td>362378</td>\n",
       "      <td>30.60</td>\n",
       "      <td>2006</td>\n",
       "      <td>87</td>\n",
       "      <td>93.98</td>\n",
       "      <td>18.97</td>\n",
       "      <td>1</td>\n",
       "      <td>0</td>\n",
       "    </tr>\n",
       "    <tr>\n",
       "      <th>53194</th>\n",
       "      <td>2471534</td>\n",
       "      <td>2</td>\n",
       "      <td>1</td>\n",
       "      <td>6046130</td>\n",
       "      <td>40.95</td>\n",
       "      <td>1996</td>\n",
       "      <td>16</td>\n",
       "      <td>0.00</td>\n",
       "      <td>32.48</td>\n",
       "      <td>0</td>\n",
       "      <td>0</td>\n",
       "    </tr>\n",
       "    <tr>\n",
       "      <th>53195</th>\n",
       "      <td>567658</td>\n",
       "      <td>8</td>\n",
       "      <td>1</td>\n",
       "      <td>973353</td>\n",
       "      <td>105.95</td>\n",
       "      <td>2008</td>\n",
       "      <td>45</td>\n",
       "      <td>52.69</td>\n",
       "      <td>23.99</td>\n",
       "      <td>0</td>\n",
       "      <td>0</td>\n",
       "    </tr>\n",
       "    <tr>\n",
       "      <th>53196</th>\n",
       "      <td>183696</td>\n",
       "      <td>3</td>\n",
       "      <td>1</td>\n",
       "      <td>4138946</td>\n",
       "      <td>242.95</td>\n",
       "      <td>2006</td>\n",
       "      <td>19</td>\n",
       "      <td>13.90</td>\n",
       "      <td>53.89</td>\n",
       "      <td>0</td>\n",
       "      <td>1</td>\n",
       "    </tr>\n",
       "  </tbody>\n",
       "</table>\n",
       "<p>53197 rows × 11 columns</p>\n",
       "</div>"
      ],
      "text/plain": [
       "       SKU_number  ReleaseNumber  New_Release_Flag  StrengthFactor  PriceReg  \\\n",
       "0          266198              0                 0         1255901     32.50   \n",
       "1         2405151              0                 0          208404     70.00   \n",
       "2          528384              9                 1           50339    324.95   \n",
       "3          571691              4                 1         1361255     39.95   \n",
       "4         2363274              1                 0         3760024    144.00   \n",
       "...           ...            ...               ...             ...       ...   \n",
       "53192     3059530              0                 0          607526     99.95   \n",
       "53193       57540             11                 1          362378     30.60   \n",
       "53194     2471534              2                 1         6046130     40.95   \n",
       "53195      567658              8                 1          973353    105.95   \n",
       "53196      183696              3                 1         4138946    242.95   \n",
       "\n",
       "       ReleaseYear  ItemCount  LowUserPrice  LowNetPrice  SoldFlag  \\\n",
       "0             2004         26         27.57        10.99         0   \n",
       "1             1988         21         15.99        40.02         1   \n",
       "2             2013         53        149.73       123.94         0   \n",
       "3             2005         67         10.59         7.59         0   \n",
       "4             2004         13         43.94        33.99         0   \n",
       "...            ...        ...           ...          ...       ...   \n",
       "53192         2003         22        253.92        99.76         0   \n",
       "53193         2006         87         93.98        18.97         1   \n",
       "53194         1996         16          0.00        32.48         0   \n",
       "53195         2008         45         52.69        23.99         0   \n",
       "53196         2006         19         13.90        53.89         0   \n",
       "\n",
       "       Marketing_Type  \n",
       "0                   1  \n",
       "1                   1  \n",
       "2                   0  \n",
       "3                   1  \n",
       "4                   0  \n",
       "...               ...  \n",
       "53192               1  \n",
       "53193               0  \n",
       "53194               0  \n",
       "53195               0  \n",
       "53196               1  \n",
       "\n",
       "[53197 rows x 11 columns]"
      ]
     },
     "execution_count": 43,
     "metadata": {},
     "output_type": "execute_result"
    }
   ],
   "source": [
    "df_new"
   ]
  },
  {
   "cell_type": "code",
   "execution_count": 44,
   "metadata": {},
   "outputs": [
    {
     "data": {
      "text/html": [
       "<div>\n",
       "<style scoped>\n",
       "    .dataframe tbody tr th:only-of-type {\n",
       "        vertical-align: middle;\n",
       "    }\n",
       "\n",
       "    .dataframe tbody tr th {\n",
       "        vertical-align: top;\n",
       "    }\n",
       "\n",
       "    .dataframe thead th {\n",
       "        text-align: right;\n",
       "    }\n",
       "</style>\n",
       "<table border=\"1\" class=\"dataframe\">\n",
       "  <thead>\n",
       "    <tr style=\"text-align: right;\">\n",
       "      <th></th>\n",
       "      <th>SKU_number</th>\n",
       "      <th>ReleaseNumber</th>\n",
       "      <th>New_Release_Flag</th>\n",
       "      <th>StrengthFactor</th>\n",
       "      <th>PriceReg</th>\n",
       "      <th>ReleaseYear</th>\n",
       "      <th>ItemCount</th>\n",
       "      <th>LowUserPrice</th>\n",
       "      <th>LowNetPrice</th>\n",
       "      <th>Marketing_Type</th>\n",
       "    </tr>\n",
       "  </thead>\n",
       "  <tbody>\n",
       "    <tr>\n",
       "      <th>0</th>\n",
       "      <td>266198</td>\n",
       "      <td>0</td>\n",
       "      <td>0</td>\n",
       "      <td>1255901</td>\n",
       "      <td>32.50</td>\n",
       "      <td>2004</td>\n",
       "      <td>26</td>\n",
       "      <td>27.57</td>\n",
       "      <td>10.99</td>\n",
       "      <td>1</td>\n",
       "    </tr>\n",
       "    <tr>\n",
       "      <th>1</th>\n",
       "      <td>2405151</td>\n",
       "      <td>0</td>\n",
       "      <td>0</td>\n",
       "      <td>208404</td>\n",
       "      <td>70.00</td>\n",
       "      <td>1988</td>\n",
       "      <td>21</td>\n",
       "      <td>15.99</td>\n",
       "      <td>40.02</td>\n",
       "      <td>1</td>\n",
       "    </tr>\n",
       "    <tr>\n",
       "      <th>2</th>\n",
       "      <td>528384</td>\n",
       "      <td>9</td>\n",
       "      <td>1</td>\n",
       "      <td>50339</td>\n",
       "      <td>324.95</td>\n",
       "      <td>2013</td>\n",
       "      <td>53</td>\n",
       "      <td>149.73</td>\n",
       "      <td>123.94</td>\n",
       "      <td>0</td>\n",
       "    </tr>\n",
       "    <tr>\n",
       "      <th>3</th>\n",
       "      <td>571691</td>\n",
       "      <td>4</td>\n",
       "      <td>1</td>\n",
       "      <td>1361255</td>\n",
       "      <td>39.95</td>\n",
       "      <td>2005</td>\n",
       "      <td>67</td>\n",
       "      <td>10.59</td>\n",
       "      <td>7.59</td>\n",
       "      <td>1</td>\n",
       "    </tr>\n",
       "    <tr>\n",
       "      <th>4</th>\n",
       "      <td>2363274</td>\n",
       "      <td>1</td>\n",
       "      <td>0</td>\n",
       "      <td>3760024</td>\n",
       "      <td>144.00</td>\n",
       "      <td>2004</td>\n",
       "      <td>13</td>\n",
       "      <td>43.94</td>\n",
       "      <td>33.99</td>\n",
       "      <td>0</td>\n",
       "    </tr>\n",
       "  </tbody>\n",
       "</table>\n",
       "</div>"
      ],
      "text/plain": [
       "   SKU_number  ReleaseNumber  New_Release_Flag  StrengthFactor  PriceReg  \\\n",
       "0      266198              0                 0         1255901     32.50   \n",
       "1     2405151              0                 0          208404     70.00   \n",
       "2      528384              9                 1           50339    324.95   \n",
       "3      571691              4                 1         1361255     39.95   \n",
       "4     2363274              1                 0         3760024    144.00   \n",
       "\n",
       "   ReleaseYear  ItemCount  LowUserPrice  LowNetPrice  Marketing_Type  \n",
       "0         2004         26         27.57        10.99               1  \n",
       "1         1988         21         15.99        40.02               1  \n",
       "2         2013         53        149.73       123.94               0  \n",
       "3         2005         67         10.59         7.59               1  \n",
       "4         2004         13         43.94        33.99               0  "
      ]
     },
     "execution_count": 44,
     "metadata": {},
     "output_type": "execute_result"
    }
   ],
   "source": [
    "x = df_new.drop(columns = ['SoldFlag'],axis = 1)\n",
    "x.head()"
   ]
  },
  {
   "cell_type": "code",
   "execution_count": 45,
   "metadata": {},
   "outputs": [
    {
     "data": {
      "text/plain": [
       "0    0\n",
       "1    1\n",
       "2    0\n",
       "3    0\n",
       "4    0\n",
       "Name: SoldFlag, dtype: int64"
      ]
     },
     "execution_count": 45,
     "metadata": {},
     "output_type": "execute_result"
    }
   ],
   "source": [
    "y=df_new[\"SoldFlag\"]\n",
    "y.head()"
   ]
  },
  {
   "cell_type": "markdown",
   "metadata": {},
   "source": [
    "### Standardising the data"
   ]
  },
  {
   "cell_type": "code",
   "execution_count": 46,
   "metadata": {},
   "outputs": [],
   "source": [
    "from sklearn.preprocessing import MinMaxScaler\n",
    "mms=MinMaxScaler()"
   ]
  },
  {
   "cell_type": "code",
   "execution_count": 47,
   "metadata": {},
   "outputs": [],
   "source": [
    "df_X=mms.fit_transform((x))\n"
   ]
  },
  {
   "cell_type": "code",
   "execution_count": 48,
   "metadata": {},
   "outputs": [
    {
     "data": {
      "text/plain": [
       "0    0\n",
       "1    1\n",
       "2    0\n",
       "3    0\n",
       "4    0\n",
       "Name: SoldFlag, dtype: int64"
      ]
     },
     "execution_count": 48,
     "metadata": {},
     "output_type": "execute_result"
    }
   ],
   "source": [
    "X = df_X\n",
    "#dependant variable \n",
    "y= df_new['SoldFlag']\n",
    "y.head()"
   ]
  },
  {
   "cell_type": "markdown",
   "metadata": {},
   "source": [
    "## Train_test Split"
   ]
  },
  {
   "cell_type": "code",
   "execution_count": 49,
   "metadata": {},
   "outputs": [
    {
     "name": "stdout",
     "output_type": "stream",
     "text": [
      "(37237, 10) (15960, 10) (37237,) (15960,)\n"
     ]
    }
   ],
   "source": [
    "X_train, X_test, y_train, y_test = train_test_split(X, y, test_size = 0.3, random_state = 10)\n",
    "print(X_train.shape, X_test.shape, y_train.shape, y_test.shape)"
   ]
  },
  {
   "cell_type": "markdown",
   "metadata": {},
   "source": [
    "## Model Application"
   ]
  },
  {
   "cell_type": "markdown",
   "metadata": {},
   "source": [
    "# 1.Logistic Regression"
   ]
  },
  {
   "cell_type": "code",
   "execution_count": 50,
   "metadata": {},
   "outputs": [],
   "source": [
    "from sklearn import metrics\n",
    "from sklearn.metrics import accuracy_score, auc, confusion_matrix, roc_auc_score, roc_curve, recall_score"
   ]
  },
  {
   "cell_type": "code",
   "execution_count": 51,
   "metadata": {},
   "outputs": [
    {
     "data": {
      "text/plain": [
       "<Figure size 360x216 with 0 Axes>"
      ]
     },
     "execution_count": 51,
     "metadata": {},
     "output_type": "execute_result"
    },
    {
     "data": {
      "text/plain": [
       "<matplotlib.axes._subplots.AxesSubplot at 0x1fd33d5ce80>"
      ]
     },
     "execution_count": 51,
     "metadata": {},
     "output_type": "execute_result"
    },
    {
     "data": {
      "text/plain": [
       "Text(0.5, 6.0, 'Predicted Values')"
      ]
     },
     "execution_count": 51,
     "metadata": {},
     "output_type": "execute_result"
    },
    {
     "data": {
      "text/plain": [
       "Text(24.0, 0.5, 'True Values')"
      ]
     },
     "execution_count": 51,
     "metadata": {},
     "output_type": "execute_result"
    },
    {
     "data": {
      "image/png": "[encoded data removed]",
      "text/plain": [
       "<Figure size 360x216 with 1 Axes>"
      ]
     },
     "metadata": {
      "needs_background": "light"
     },
     "output_type": "display_data"
    }
   ],
   "source": [
    "model_lg = LogisticRegression().fit(X_train,y_train)\n",
    "pred_log = model_lg.predict(X_test)\n",
    "prob_log= model_lg.predict_proba(X_test)\n",
    "\n",
    "cm = confusion_matrix(y_test,pred_log)\n",
    "plt.figure(figsize = (5,3))\n",
    "\n",
    "sns.heatmap(cm,annot = True,fmt = '0.2f',xticklabels=['0','1'],\n",
    "           yticklabels=['0','1'],cbar=False)\n",
    "plt.xlabel('Predicted Values')\n",
    "plt.ylabel('True Values')\n",
    "\n"
   ]
  },
  {
   "cell_type": "code",
   "execution_count": 55,
   "metadata": {},
   "outputs": [
    {
     "name": "stdout",
     "output_type": "stream",
     "text": [
      "              precision    recall  f1-score   support\n",
      "\n",
      "           0       0.84      0.99      0.91     13276\n",
      "           1       0.57      0.06      0.11      2684\n",
      "\n",
      "    accuracy                           0.83     15960\n",
      "   macro avg       0.70      0.53      0.51     15960\n",
      "weighted avg       0.79      0.83      0.77     15960\n",
      "\n"
     ]
    }
   ],
   "source": [
    "cr_lr = classification_report(y_test,pred_log)\n",
    "print(cr_lr)"
   ]
  },
  {
   "cell_type": "code",
   "execution_count": 57,
   "metadata": {},
   "outputs": [
    {
     "name": "stdout",
     "output_type": "stream",
     "text": [
      "Kappa Score = 0.08054395710434858\n",
      "AUC Score = 0.5259546377291204\n"
     ]
    }
   ],
   "source": [
    "kappa = cohen_kappa_score(y_test,pred_log) # Kappa Score\n",
    "print('Kappa Score =',kappa)\n",
    "# AUC score\n",
    "roc_a = roc_auc_score(y_test,pred_log) \n",
    "print('AUC Score =',roc_a)"
   ]
  },
  {
   "cell_type": "code",
   "execution_count": 63,
   "metadata": {},
   "outputs": [
    {
     "data": {
      "text/plain": [
       "<matplotlib.axes._subplots.AxesSubplot at 0x1fd2f8eba30>"
      ]
     },
     "execution_count": 63,
     "metadata": {},
     "output_type": "execute_result"
    },
    {
     "data": {
      "image/png": "[encoded data removed]",
      "text/plain": [
       "<Figure size 432x288 with 1 Axes>"
      ]
     },
     "metadata": {
      "needs_background": "light"
     },
     "output_type": "display_data"
    }
   ],
   "source": [
    "import scikitplot as skplt\n",
    "skplt.metrics.plot_roc(y_test,prob_log)\n",
    "plt.show()\n"
   ]
  },
  {
   "cell_type": "markdown",
   "metadata": {},
   "source": [
    "# 2.Decision Tree"
   ]
  },
  {
   "cell_type": "code",
   "execution_count": 64,
   "metadata": {},
   "outputs": [
    {
     "data": {
      "text/plain": [
       "DecisionTreeClassifier()"
      ]
     },
     "execution_count": 64,
     "metadata": {},
     "output_type": "execute_result"
    }
   ],
   "source": [
    "model_dt=DecisionTreeClassifier()\n",
    "model_dt.fit(X_train,y_train)\n",
    "pred_dt=model_dt.predict(X_test)\n"
   ]
  },
  {
   "cell_type": "code",
   "execution_count": 65,
   "metadata": {},
   "outputs": [
    {
     "name": "stdout",
     "output_type": "stream",
     "text": [
      "              precision    recall  f1-score   support\n",
      "\n",
      "           0       0.83      0.86      0.85     12910\n",
      "           1       0.32      0.28      0.30      3050\n",
      "\n",
      "    accuracy                           0.75     15960\n",
      "   macro avg       0.58      0.57      0.57     15960\n",
      "weighted avg       0.74      0.75      0.74     15960\n",
      "\n"
     ]
    }
   ],
   "source": [
    "cr_dt = classification_report(pred_dt,y_test)\n",
    "print(cr_dt)"
   ]
  },
  {
   "cell_type": "code",
   "execution_count": 66,
   "metadata": {},
   "outputs": [
    {
     "data": {
      "image/png": "[encoded data removed]",
      "text/plain": [
       "<Figure size 360x216 with 1 Axes>"
      ]
     },
     "metadata": {
      "needs_background": "light"
     },
     "output_type": "display_data"
    }
   ],
   "source": [
    "cm_dt = confusion_matrix(pred_dt,y_test)\n",
    "plt.figure(figsize=(5,3))\n",
    "\n",
    "sns.heatmap(cm_dt,annot=True,fmt='0.2f',xticklabels=['0','1'],\n",
    "           yticklabels=['0','1'],cbar=False);\n",
    "plt.xlabel('Predicted Values');\n",
    "plt.ylabel('Actual Values')\n",
    "plt.show();"
   ]
  },
  {
   "cell_type": "markdown",
   "metadata": {},
   "source": [
    "Accuracy for Decision Tree is very less - 75"
   ]
  },
  {
   "cell_type": "markdown",
   "metadata": {},
   "source": [
    "# 3.Random Forest Classifier"
   ]
  },
  {
   "cell_type": "code",
   "execution_count": 67,
   "metadata": {},
   "outputs": [
    {
     "data": {
      "text/plain": [
       "RandomForestClassifier(max_features=0.2, n_estimators=20)"
      ]
     },
     "execution_count": 67,
     "metadata": {},
     "output_type": "execute_result"
    }
   ],
   "source": [
    "mod_rf = RandomForestClassifier(n_estimators=20, criterion='gini',\n",
    "                              max_features = 0.2)\n",
    "mod_rf.fit(X_train,y_train)\n",
    "pred_rf = mod_rf.predict(X_test)\n",
    "prob_rf = mod_rf.predict_proba(X_test)"
   ]
  },
  {
   "cell_type": "code",
   "execution_count": 68,
   "metadata": {},
   "outputs": [
    {
     "data": {
      "text/plain": [
       "<Figure size 360x216 with 0 Axes>"
      ]
     },
     "execution_count": 68,
     "metadata": {},
     "output_type": "execute_result"
    },
    {
     "data": {
      "text/plain": [
       "<matplotlib.axes._subplots.AxesSubplot at 0x1fd2fba90d0>"
      ]
     },
     "execution_count": 68,
     "metadata": {},
     "output_type": "execute_result"
    },
    {
     "data": {
      "text/plain": [
       "Text(0.5, 6.0, 'Predicted Values')"
      ]
     },
     "execution_count": 68,
     "metadata": {},
     "output_type": "execute_result"
    },
    {
     "data": {
      "text/plain": [
       "Text(24.0, 0.5, 'Actual Values')"
      ]
     },
     "execution_count": 68,
     "metadata": {},
     "output_type": "execute_result"
    },
    {
     "data": {
      "image/png": "[encoded data removed]",
      "text/plain": [
       "<Figure size 360x216 with 1 Axes>"
      ]
     },
     "metadata": {
      "needs_background": "light"
     },
     "output_type": "display_data"
    }
   ],
   "source": [
    "cm_rf = confusion_matrix(y_test,pred_rf)\n",
    "plt.figure(figsize = (5,3))\n",
    "\n",
    "sns.heatmap(cm_rf,annot = True,fmt = '0.2f',xticklabels=['0','1'],\n",
    "           yticklabels=['0','1'],cbar=False)\n",
    "plt.xlabel('Predicted Values')\n",
    "plt.ylabel('Actual Values')"
   ]
  },
  {
   "cell_type": "code",
   "execution_count": 69,
   "metadata": {},
   "outputs": [
    {
     "name": "stdout",
     "output_type": "stream",
     "text": [
      "              precision    recall  f1-score   support\n",
      "\n",
      "           0       0.85      0.97      0.91     13276\n",
      "           1       0.53      0.15      0.23      2684\n",
      "\n",
      "    accuracy                           0.83     15960\n",
      "   macro avg       0.69      0.56      0.57     15960\n",
      "weighted avg       0.80      0.83      0.79     15960\n",
      "\n"
     ]
    }
   ],
   "source": [
    "cr_rf = classification_report(y_test,pred_rf)\n",
    "print(cr_rf)"
   ]
  },
  {
   "cell_type": "code",
   "execution_count": 70,
   "metadata": {},
   "outputs": [
    {
     "name": "stdout",
     "output_type": "stream",
     "text": [
      "Kappa Score = 0.17179001291205953\n",
      "AUC Score = 0.5612942844993531\n"
     ]
    }
   ],
   "source": [
    "kappa = cohen_kappa_score(y_test,pred_rf) # Kappa Score\n",
    "print('Kappa Score =',kappa)\n",
    "# AUC score\n",
    "roc_a = roc_auc_score(y_test,pred_rf) # Kappa Score\n",
    "print('AUC Score =',roc_a)"
   ]
  },
  {
   "cell_type": "code",
   "execution_count": 71,
   "metadata": {},
   "outputs": [
    {
     "data": {
      "text/plain": [
       "<matplotlib.axes._subplots.AxesSubplot at 0x1fd32546280>"
      ]
     },
     "execution_count": 71,
     "metadata": {},
     "output_type": "execute_result"
    },
    {
     "data": {
      "image/png": "[encoded data removed]",
      "text/plain": [
       "<Figure size 432x288 with 1 Axes>"
      ]
     },
     "metadata": {
      "needs_background": "light"
     },
     "output_type": "display_data"
    }
   ],
   "source": [
    "import scikitplot as skplt\n",
    "skplt.metrics.plot_roc(y_test,prob_rf)\n",
    "plt.show()\n"
   ]
  },
  {
   "cell_type": "code",
   "execution_count": 72,
   "metadata": {},
   "outputs": [],
   "source": [
    "import pandas as pd\n",
    "feature_importances = pd.DataFrame(mod_rf.feature_importances_,\n",
    "                                   index = x.columns,\n",
    "                                    columns=['importance']).sort_values('importance',ascending=False)"
   ]
  },
  {
   "cell_type": "code",
   "execution_count": 73,
   "metadata": {},
   "outputs": [
    {
     "data": {
      "text/html": [
       "<div>\n",
       "<style scoped>\n",
       "    .dataframe tbody tr th:only-of-type {\n",
       "        vertical-align: middle;\n",
       "    }\n",
       "\n",
       "    .dataframe tbody tr th {\n",
       "        vertical-align: top;\n",
       "    }\n",
       "\n",
       "    .dataframe thead th {\n",
       "        text-align: right;\n",
       "    }\n",
       "</style>\n",
       "<table border=\"1\" class=\"dataframe\">\n",
       "  <thead>\n",
       "    <tr style=\"text-align: right;\">\n",
       "      <th></th>\n",
       "      <th>importance</th>\n",
       "    </tr>\n",
       "  </thead>\n",
       "  <tbody>\n",
       "    <tr>\n",
       "      <th>StrengthFactor</th>\n",
       "      <td>0.153482</td>\n",
       "    </tr>\n",
       "    <tr>\n",
       "      <th>ItemCount</th>\n",
       "      <td>0.146734</td>\n",
       "    </tr>\n",
       "    <tr>\n",
       "      <th>SKU_number</th>\n",
       "      <td>0.132009</td>\n",
       "    </tr>\n",
       "    <tr>\n",
       "      <th>LowUserPrice</th>\n",
       "      <td>0.129199</td>\n",
       "    </tr>\n",
       "    <tr>\n",
       "      <th>LowNetPrice</th>\n",
       "      <td>0.125229</td>\n",
       "    </tr>\n",
       "    <tr>\n",
       "      <th>PriceReg</th>\n",
       "      <td>0.124756</td>\n",
       "    </tr>\n",
       "    <tr>\n",
       "      <th>ReleaseYear</th>\n",
       "      <td>0.079377</td>\n",
       "    </tr>\n",
       "    <tr>\n",
       "      <th>ReleaseNumber</th>\n",
       "      <td>0.063551</td>\n",
       "    </tr>\n",
       "    <tr>\n",
       "      <th>Marketing_Type</th>\n",
       "      <td>0.038085</td>\n",
       "    </tr>\n",
       "    <tr>\n",
       "      <th>New_Release_Flag</th>\n",
       "      <td>0.007579</td>\n",
       "    </tr>\n",
       "  </tbody>\n",
       "</table>\n",
       "</div>"
      ],
      "text/plain": [
       "                  importance\n",
       "StrengthFactor      0.153482\n",
       "ItemCount           0.146734\n",
       "SKU_number          0.132009\n",
       "LowUserPrice        0.129199\n",
       "LowNetPrice         0.125229\n",
       "PriceReg            0.124756\n",
       "ReleaseYear         0.079377\n",
       "ReleaseNumber       0.063551\n",
       "Marketing_Type      0.038085\n",
       "New_Release_Flag    0.007579"
      ]
     },
     "execution_count": 73,
     "metadata": {},
     "output_type": "execute_result"
    }
   ],
   "source": [
    "feature_importances"
   ]
  },
  {
   "cell_type": "markdown",
   "metadata": {},
   "source": [
    "- With Random Forest accuracy has increased by 1% i.e.,84 "
   ]
  },
  {
   "cell_type": "markdown",
   "metadata": {},
   "source": [
    "# 4.Ada Boosting on Random Forest"
   ]
  },
  {
   "cell_type": "code",
   "execution_count": 74,
   "metadata": {},
   "outputs": [],
   "source": [
    "from sklearn.ensemble import AdaBoostClassifier"
   ]
  },
  {
   "cell_type": "code",
   "execution_count": 75,
   "metadata": {},
   "outputs": [
    {
     "data": {
      "text/plain": [
       "AdaBoostClassifier(base_estimator=RandomForestClassifier(n_estimators=10),\n",
       "                   random_state=12)"
      ]
     },
     "execution_count": 75,
     "metadata": {},
     "output_type": "execute_result"
    }
   ],
   "source": [
    "mod_ada = AdaBoostClassifier(base_estimator=RandomForestClassifier(n_estimators=10),random_state=12)\n",
    "mod_ada.fit(X_train,y_train)"
   ]
  },
  {
   "cell_type": "code",
   "execution_count": 76,
   "metadata": {},
   "outputs": [],
   "source": [
    "pred_ada = mod_ada.predict(X_test)\n",
    "prob_ada = mod_ada.predict_proba(X_test)"
   ]
  },
  {
   "cell_type": "code",
   "execution_count": 77,
   "metadata": {},
   "outputs": [
    {
     "data": {
      "text/plain": [
       "<Figure size 360x216 with 0 Axes>"
      ]
     },
     "execution_count": 77,
     "metadata": {},
     "output_type": "execute_result"
    },
    {
     "data": {
      "text/plain": [
       "<matplotlib.axes._subplots.AxesSubplot at 0x1fd323fc1c0>"
      ]
     },
     "execution_count": 77,
     "metadata": {},
     "output_type": "execute_result"
    },
    {
     "data": {
      "text/plain": [
       "Text(0.5, 6.0, 'Predicted Values')"
      ]
     },
     "execution_count": 77,
     "metadata": {},
     "output_type": "execute_result"
    },
    {
     "data": {
      "text/plain": [
       "Text(24.0, 0.5, 'Actual Values')"
      ]
     },
     "execution_count": 77,
     "metadata": {},
     "output_type": "execute_result"
    },
    {
     "data": {
      "image/png": "[encoded data removed]",
      "text/plain": [
       "<Figure size 360x216 with 1 Axes>"
      ]
     },
     "metadata": {
      "needs_background": "light"
     },
     "output_type": "display_data"
    }
   ],
   "source": [
    "cm_ada = confusion_matrix(y_test,pred_ada)\n",
    "plt.figure(figsize = (5,3))\n",
    "\n",
    "sns.heatmap(cm_ada,annot = True,fmt = '0.2f',xticklabels=['0','1'],\n",
    "           yticklabels=['0','1'],cbar=False)\n",
    "plt.xlabel('Predicted Values')\n",
    "plt.ylabel('Actual Values')"
   ]
  },
  {
   "cell_type": "code",
   "execution_count": 78,
   "metadata": {},
   "outputs": [
    {
     "name": "stdout",
     "output_type": "stream",
     "text": [
      "              precision    recall  f1-score   support\n",
      "\n",
      "           0       0.85      0.97      0.91     13276\n",
      "           1       0.52      0.14      0.22      2684\n",
      "\n",
      "    accuracy                           0.83     15960\n",
      "   macro avg       0.69      0.56      0.57     15960\n",
      "weighted avg       0.79      0.83      0.79     15960\n",
      "\n"
     ]
    }
   ],
   "source": [
    "cr = classification_report(y_test,pred_ada)\n",
    "print(cr)"
   ]
  },
  {
   "cell_type": "code",
   "execution_count": 79,
   "metadata": {},
   "outputs": [
    {
     "name": "stdout",
     "output_type": "stream",
     "text": [
      "AUC Score = 0.558242375897432\n"
     ]
    }
   ],
   "source": [
    "roc_a = roc_auc_score(y_test,pred_ada) # Kappa Score\n",
    "print('AUC Score =',roc_a)"
   ]
  },
  {
   "cell_type": "code",
   "execution_count": 80,
   "metadata": {},
   "outputs": [
    {
     "data": {
      "text/plain": [
       "1457     1\n",
       "19450    0\n",
       "22364    0\n",
       "38555    1\n",
       "48544    0\n",
       "        ..\n",
       "4968     0\n",
       "33896    0\n",
       "42087    0\n",
       "22392    0\n",
       "30925    0\n",
       "Name: SoldFlag, Length: 15960, dtype: int64"
      ]
     },
     "execution_count": 80,
     "metadata": {},
     "output_type": "execute_result"
    }
   ],
   "source": [
    "y_test"
   ]
  },
  {
   "cell_type": "markdown",
   "metadata": {},
   "source": [
    "# 5.SVM"
   ]
  },
  {
   "cell_type": "code",
   "execution_count": 81,
   "metadata": {},
   "outputs": [],
   "source": [
    "from sklearn.svm import SVC\n",
    "from sklearn.model_selection import cross_val_score\n",
    "from sklearn.model_selection import GridSearchCV"
   ]
  },
  {
   "cell_type": "code",
   "execution_count": 82,
   "metadata": {},
   "outputs": [],
   "source": [
    "mod = SVC(C = 1)\n",
    "mod_svm = mod.fit(X_train,y_train)\n",
    "pred_svm = mod_svm.predict(X_test)"
   ]
  },
  {
   "cell_type": "code",
   "execution_count": 83,
   "metadata": {},
   "outputs": [
    {
     "name": "stdout",
     "output_type": "stream",
     "text": [
      "              precision    recall  f1-score   support\n",
      "\n",
      "           0       0.83      1.00      0.91     13276\n",
      "           1       0.00      0.00      0.00      2684\n",
      "\n",
      "    accuracy                           0.83     15960\n",
      "   macro avg       0.42      0.50      0.45     15960\n",
      "weighted avg       0.69      0.83      0.76     15960\n",
      "\n"
     ]
    },
    {
     "name": "stderr",
     "output_type": "stream",
     "text": [
      "C:\\Users\\HP\\anaconda3\\lib\\site-packages\\sklearn\\metrics\\_classification.py:1221: UndefinedMetricWarning: Precision and F-score are ill-defined and being set to 0.0 in labels with no predicted samples. Use `zero_division` parameter to control this behavior.\n",
      "  _warn_prf(average, modifier, msg_start, len(result))\n"
     ]
    }
   ],
   "source": [
    "cr = classification_report(y_test,pred_svm)\n",
    "print(cr)"
   ]
  },
  {
   "cell_type": "markdown",
   "metadata": {},
   "source": [
    "Precision for 1 is 0 which means the model failed to predict the 1 correctly"
   ]
  },
  {
   "cell_type": "code",
   "execution_count": 84,
   "metadata": {},
   "outputs": [
    {
     "data": {
      "text/plain": [
       "LogisticRegression()"
      ]
     },
     "execution_count": 84,
     "metadata": {},
     "output_type": "execute_result"
    },
    {
     "data": {
      "text/plain": [
       "DecisionTreeClassifier()"
      ]
     },
     "execution_count": 84,
     "metadata": {},
     "output_type": "execute_result"
    },
    {
     "data": {
      "text/plain": [
       "RandomForestClassifier()"
      ]
     },
     "execution_count": 84,
     "metadata": {},
     "output_type": "execute_result"
    },
    {
     "data": {
      "text/plain": [
       "AdaBoostClassifier()"
      ]
     },
     "execution_count": 84,
     "metadata": {},
     "output_type": "execute_result"
    },
    {
     "data": {
      "text/plain": [
       "SVC(C=1)"
      ]
     },
     "execution_count": 84,
     "metadata": {},
     "output_type": "execute_result"
    }
   ],
   "source": [
    "algo_names=[\"LogisticRegression\",\"DecisionTreeClassifier\",\"RandomForestClassifier\",\"AdaBoostClassifier\",\"SVC\"]\n",
    "all_algo=[LogisticRegression(),DecisionTreeClassifier(),RandomForestClassifier(),AdaBoostClassifier(),SVC(C=1)]\n",
    "acc = []\n",
    "for mod in all_algo:\n",
    "    model = mod\n",
    "    model.fit(X_train, y_train)\n",
    "    pred_all = model.predict(X_test)\n",
    "    acc.append(accuracy_score(y_test,pred_all))\n",
    "for i,n in enumerate(acc):\n",
    "    acc_df=pd.DataFrame()\n",
    "    acc_df[\"Algorithm\"]=algo_names[i]\n",
    "    acc_df[\"accuracy\"]=n"
   ]
  },
  {
   "cell_type": "code",
   "execution_count": 88,
   "metadata": {},
   "outputs": [
    {
     "data": {
      "text/plain": [
       "[0.8342105263157895,\n",
       " 0.7469924812030075,\n",
       " 0.8363408521303258,\n",
       " 0.8384085213032582,\n",
       " 0.8318295739348371]"
      ]
     },
     "execution_count": 88,
     "metadata": {},
     "output_type": "execute_result"
    }
   ],
   "source": [
    "acc"
   ]
  },
  {
   "cell_type": "code",
   "execution_count": 89,
   "metadata": {},
   "outputs": [
    {
     "data": {
      "text/html": [
       "<div>\n",
       "<style scoped>\n",
       "    .dataframe tbody tr th:only-of-type {\n",
       "        vertical-align: middle;\n",
       "    }\n",
       "\n",
       "    .dataframe tbody tr th {\n",
       "        vertical-align: top;\n",
       "    }\n",
       "\n",
       "    .dataframe thead th {\n",
       "        text-align: right;\n",
       "    }\n",
       "</style>\n",
       "<table border=\"1\" class=\"dataframe\">\n",
       "  <thead>\n",
       "    <tr style=\"text-align: right;\">\n",
       "      <th></th>\n",
       "      <th>Accuracy</th>\n",
       "    </tr>\n",
       "  </thead>\n",
       "  <tbody>\n",
       "    <tr>\n",
       "      <th>AdaBoostClassifier</th>\n",
       "      <td>0.838409</td>\n",
       "    </tr>\n",
       "    <tr>\n",
       "      <th>RandomForestClassifier</th>\n",
       "      <td>0.836341</td>\n",
       "    </tr>\n",
       "    <tr>\n",
       "      <th>LogisticRegression</th>\n",
       "      <td>0.834211</td>\n",
       "    </tr>\n",
       "    <tr>\n",
       "      <th>SVC</th>\n",
       "      <td>0.831830</td>\n",
       "    </tr>\n",
       "    <tr>\n",
       "      <th>DecisionTreeClassifier</th>\n",
       "      <td>0.746992</td>\n",
       "    </tr>\n",
       "  </tbody>\n",
       "</table>\n",
       "</div>"
      ],
      "text/plain": [
       "                        Accuracy\n",
       "AdaBoostClassifier      0.838409\n",
       "RandomForestClassifier  0.836341\n",
       "LogisticRegression      0.834211\n",
       "SVC                     0.831830\n",
       "DecisionTreeClassifier  0.746992"
      ]
     },
     "execution_count": 89,
     "metadata": {},
     "output_type": "execute_result"
    }
   ],
   "source": [
    "acc_df= pd.DataFrame(np.array(acc),index= algo_names,columns=[\"Accuracy\"])\n",
    "acc_df.sort_values(\"Accuracy\",ascending=False)"
   ]
  },
  {
   "cell_type": "markdown",
   "metadata": {},
   "source": [
    "## Testing The data"
   ]
  },
  {
   "cell_type": "code",
   "execution_count": 90,
   "metadata": {},
   "outputs": [
    {
     "data": {
      "text/html": [
       "<div>\n",
       "<style scoped>\n",
       "    .dataframe tbody tr th:only-of-type {\n",
       "        vertical-align: middle;\n",
       "    }\n",
       "\n",
       "    .dataframe tbody tr th {\n",
       "        vertical-align: top;\n",
       "    }\n",
       "\n",
       "    .dataframe thead th {\n",
       "        text-align: right;\n",
       "    }\n",
       "</style>\n",
       "<table border=\"1\" class=\"dataframe\">\n",
       "  <thead>\n",
       "    <tr style=\"text-align: right;\">\n",
       "      <th></th>\n",
       "      <th>Unnamed: 0</th>\n",
       "      <th>Order</th>\n",
       "      <th>File_Type</th>\n",
       "      <th>SKU_number</th>\n",
       "      <th>MarketingType</th>\n",
       "      <th>ReleaseNumber</th>\n",
       "      <th>New_Release_Flag</th>\n",
       "      <th>StrengthFactor</th>\n",
       "      <th>PriceReg</th>\n",
       "      <th>ReleaseYear</th>\n",
       "      <th>ItemCount</th>\n",
       "      <th>LowUserPrice</th>\n",
       "      <th>LowNetPrice</th>\n",
       "    </tr>\n",
       "  </thead>\n",
       "  <tbody>\n",
       "    <tr>\n",
       "      <th>0</th>\n",
       "      <td>36640</td>\n",
       "      <td>38309</td>\n",
       "      <td>Historical</td>\n",
       "      <td>114538</td>\n",
       "      <td>S</td>\n",
       "      <td>2</td>\n",
       "      <td>1</td>\n",
       "      <td>1349864</td>\n",
       "      <td>122.20</td>\n",
       "      <td>2003</td>\n",
       "      <td>25</td>\n",
       "      <td>16.24</td>\n",
       "      <td>10.94</td>\n",
       "    </tr>\n",
       "    <tr>\n",
       "      <th>1</th>\n",
       "      <td>24484</td>\n",
       "      <td>25026</td>\n",
       "      <td>Historical</td>\n",
       "      <td>259365</td>\n",
       "      <td>D</td>\n",
       "      <td>6</td>\n",
       "      <td>1</td>\n",
       "      <td>410348</td>\n",
       "      <td>56.00</td>\n",
       "      <td>2003</td>\n",
       "      <td>51</td>\n",
       "      <td>127.72</td>\n",
       "      <td>29.94</td>\n",
       "    </tr>\n",
       "    <tr>\n",
       "      <th>2</th>\n",
       "      <td>64696</td>\n",
       "      <td>72200</td>\n",
       "      <td>Historical</td>\n",
       "      <td>147658</td>\n",
       "      <td>S</td>\n",
       "      <td>1</td>\n",
       "      <td>0</td>\n",
       "      <td>92099</td>\n",
       "      <td>84.95</td>\n",
       "      <td>2011</td>\n",
       "      <td>20</td>\n",
       "      <td>0.00</td>\n",
       "      <td>0.00</td>\n",
       "    </tr>\n",
       "    <tr>\n",
       "      <th>3</th>\n",
       "      <td>65090</td>\n",
       "      <td>72652</td>\n",
       "      <td>Historical</td>\n",
       "      <td>148208</td>\n",
       "      <td>S</td>\n",
       "      <td>5</td>\n",
       "      <td>1</td>\n",
       "      <td>801001</td>\n",
       "      <td>185.95</td>\n",
       "      <td>2004</td>\n",
       "      <td>21</td>\n",
       "      <td>4.33</td>\n",
       "      <td>86.83</td>\n",
       "    </tr>\n",
       "    <tr>\n",
       "      <th>4</th>\n",
       "      <td>32653</td>\n",
       "      <td>33380</td>\n",
       "      <td>Historical</td>\n",
       "      <td>124687</td>\n",
       "      <td>D</td>\n",
       "      <td>2</td>\n",
       "      <td>1</td>\n",
       "      <td>1051302</td>\n",
       "      <td>65.00</td>\n",
       "      <td>2006</td>\n",
       "      <td>60</td>\n",
       "      <td>26.80</td>\n",
       "      <td>28.99</td>\n",
       "    </tr>\n",
       "  </tbody>\n",
       "</table>\n",
       "</div>"
      ],
      "text/plain": [
       "   Unnamed: 0  Order   File_Type  SKU_number MarketingType  ReleaseNumber  \\\n",
       "0       36640  38309  Historical      114538             S              2   \n",
       "1       24484  25026  Historical      259365             D              6   \n",
       "2       64696  72200  Historical      147658             S              1   \n",
       "3       65090  72652  Historical      148208             S              5   \n",
       "4       32653  33380  Historical      124687             D              2   \n",
       "\n",
       "   New_Release_Flag  StrengthFactor  PriceReg  ReleaseYear  ItemCount  \\\n",
       "0                 1         1349864    122.20         2003         25   \n",
       "1                 1          410348     56.00         2003         51   \n",
       "2                 0           92099     84.95         2011         20   \n",
       "3                 1          801001    185.95         2004         21   \n",
       "4                 1         1051302     65.00         2006         60   \n",
       "\n",
       "   LowUserPrice  LowNetPrice  \n",
       "0         16.24        10.94  \n",
       "1        127.72        29.94  \n",
       "2          0.00         0.00  \n",
       "3          4.33        86.83  \n",
       "4         26.80        28.99  "
      ]
     },
     "execution_count": 90,
     "metadata": {},
     "output_type": "execute_result"
    }
   ],
   "source": [
    "test_data=pd.read_csv(\"Historical_test_without_target.csv\")\n",
    "test_data.head()"
   ]
  },
  {
   "cell_type": "code",
   "execution_count": 91,
   "metadata": {},
   "outputs": [],
   "source": [
    "test_data.drop(columns=[\"Unnamed: 0\",\"Order\",\"File_Type\"],inplace=True)"
   ]
  },
  {
   "cell_type": "code",
   "execution_count": 92,
   "metadata": {},
   "outputs": [],
   "source": [
    "le = LabelEncoder()\n",
    "df_mt= pd.DataFrame(le.fit_transform(test_data.MarketingType),columns = [\"Marketing_Type\"])\n",
    "testdata_new = pd.concat([test_data,df_mt],axis = 1)\n",
    "testdata_new.drop(columns=\"MarketingType\",inplace=True)"
   ]
  },
  {
   "cell_type": "code",
   "execution_count": 93,
   "metadata": {},
   "outputs": [
    {
     "data": {
      "text/html": [
       "<div>\n",
       "<style scoped>\n",
       "    .dataframe tbody tr th:only-of-type {\n",
       "        vertical-align: middle;\n",
       "    }\n",
       "\n",
       "    .dataframe tbody tr th {\n",
       "        vertical-align: top;\n",
       "    }\n",
       "\n",
       "    .dataframe thead th {\n",
       "        text-align: right;\n",
       "    }\n",
       "</style>\n",
       "<table border=\"1\" class=\"dataframe\">\n",
       "  <thead>\n",
       "    <tr style=\"text-align: right;\">\n",
       "      <th></th>\n",
       "      <th>SKU_number</th>\n",
       "      <th>ReleaseNumber</th>\n",
       "      <th>New_Release_Flag</th>\n",
       "      <th>StrengthFactor</th>\n",
       "      <th>PriceReg</th>\n",
       "      <th>ReleaseYear</th>\n",
       "      <th>ItemCount</th>\n",
       "      <th>LowUserPrice</th>\n",
       "      <th>LowNetPrice</th>\n",
       "      <th>Marketing_Type</th>\n",
       "    </tr>\n",
       "  </thead>\n",
       "  <tbody>\n",
       "    <tr>\n",
       "      <th>0</th>\n",
       "      <td>114538</td>\n",
       "      <td>2</td>\n",
       "      <td>1</td>\n",
       "      <td>1349864</td>\n",
       "      <td>122.20</td>\n",
       "      <td>2003</td>\n",
       "      <td>25</td>\n",
       "      <td>16.24</td>\n",
       "      <td>10.94</td>\n",
       "      <td>1</td>\n",
       "    </tr>\n",
       "    <tr>\n",
       "      <th>1</th>\n",
       "      <td>259365</td>\n",
       "      <td>6</td>\n",
       "      <td>1</td>\n",
       "      <td>410348</td>\n",
       "      <td>56.00</td>\n",
       "      <td>2003</td>\n",
       "      <td>51</td>\n",
       "      <td>127.72</td>\n",
       "      <td>29.94</td>\n",
       "      <td>0</td>\n",
       "    </tr>\n",
       "    <tr>\n",
       "      <th>2</th>\n",
       "      <td>147658</td>\n",
       "      <td>1</td>\n",
       "      <td>0</td>\n",
       "      <td>92099</td>\n",
       "      <td>84.95</td>\n",
       "      <td>2011</td>\n",
       "      <td>20</td>\n",
       "      <td>0.00</td>\n",
       "      <td>0.00</td>\n",
       "      <td>1</td>\n",
       "    </tr>\n",
       "    <tr>\n",
       "      <th>3</th>\n",
       "      <td>148208</td>\n",
       "      <td>5</td>\n",
       "      <td>1</td>\n",
       "      <td>801001</td>\n",
       "      <td>185.95</td>\n",
       "      <td>2004</td>\n",
       "      <td>21</td>\n",
       "      <td>4.33</td>\n",
       "      <td>86.83</td>\n",
       "      <td>1</td>\n",
       "    </tr>\n",
       "    <tr>\n",
       "      <th>4</th>\n",
       "      <td>124687</td>\n",
       "      <td>2</td>\n",
       "      <td>1</td>\n",
       "      <td>1051302</td>\n",
       "      <td>65.00</td>\n",
       "      <td>2006</td>\n",
       "      <td>60</td>\n",
       "      <td>26.80</td>\n",
       "      <td>28.99</td>\n",
       "      <td>0</td>\n",
       "    </tr>\n",
       "    <tr>\n",
       "      <th>...</th>\n",
       "      <td>...</td>\n",
       "      <td>...</td>\n",
       "      <td>...</td>\n",
       "      <td>...</td>\n",
       "      <td>...</td>\n",
       "      <td>...</td>\n",
       "      <td>...</td>\n",
       "      <td>...</td>\n",
       "      <td>...</td>\n",
       "      <td>...</td>\n",
       "    </tr>\n",
       "    <tr>\n",
       "      <th>22794</th>\n",
       "      <td>663930</td>\n",
       "      <td>18</td>\n",
       "      <td>1</td>\n",
       "      <td>18044</td>\n",
       "      <td>107.00</td>\n",
       "      <td>2013</td>\n",
       "      <td>44</td>\n",
       "      <td>41.99</td>\n",
       "      <td>58.52</td>\n",
       "      <td>1</td>\n",
       "    </tr>\n",
       "    <tr>\n",
       "      <th>22795</th>\n",
       "      <td>544565</td>\n",
       "      <td>10</td>\n",
       "      <td>1</td>\n",
       "      <td>9876</td>\n",
       "      <td>254.95</td>\n",
       "      <td>2013</td>\n",
       "      <td>113</td>\n",
       "      <td>120.17</td>\n",
       "      <td>79.27</td>\n",
       "      <td>0</td>\n",
       "    </tr>\n",
       "    <tr>\n",
       "      <th>22796</th>\n",
       "      <td>2404633</td>\n",
       "      <td>1</td>\n",
       "      <td>0</td>\n",
       "      <td>778672</td>\n",
       "      <td>55.00</td>\n",
       "      <td>1995</td>\n",
       "      <td>59</td>\n",
       "      <td>0.00</td>\n",
       "      <td>32.24</td>\n",
       "      <td>1</td>\n",
       "    </tr>\n",
       "    <tr>\n",
       "      <th>22797</th>\n",
       "      <td>877289</td>\n",
       "      <td>4</td>\n",
       "      <td>1</td>\n",
       "      <td>4947423</td>\n",
       "      <td>10.51</td>\n",
       "      <td>2008</td>\n",
       "      <td>47</td>\n",
       "      <td>129.31</td>\n",
       "      <td>11.53</td>\n",
       "      <td>1</td>\n",
       "    </tr>\n",
       "    <tr>\n",
       "      <th>22798</th>\n",
       "      <td>110037</td>\n",
       "      <td>1</td>\n",
       "      <td>0</td>\n",
       "      <td>2005733</td>\n",
       "      <td>9.75</td>\n",
       "      <td>2009</td>\n",
       "      <td>56</td>\n",
       "      <td>76.11</td>\n",
       "      <td>6.92</td>\n",
       "      <td>0</td>\n",
       "    </tr>\n",
       "  </tbody>\n",
       "</table>\n",
       "<p>22799 rows × 10 columns</p>\n",
       "</div>"
      ],
      "text/plain": [
       "       SKU_number  ReleaseNumber  New_Release_Flag  StrengthFactor  PriceReg  \\\n",
       "0          114538              2                 1         1349864    122.20   \n",
       "1          259365              6                 1          410348     56.00   \n",
       "2          147658              1                 0           92099     84.95   \n",
       "3          148208              5                 1          801001    185.95   \n",
       "4          124687              2                 1         1051302     65.00   \n",
       "...           ...            ...               ...             ...       ...   \n",
       "22794      663930             18                 1           18044    107.00   \n",
       "22795      544565             10                 1            9876    254.95   \n",
       "22796     2404633              1                 0          778672     55.00   \n",
       "22797      877289              4                 1         4947423     10.51   \n",
       "22798      110037              1                 0         2005733      9.75   \n",
       "\n",
       "       ReleaseYear  ItemCount  LowUserPrice  LowNetPrice  Marketing_Type  \n",
       "0             2003         25         16.24        10.94               1  \n",
       "1             2003         51        127.72        29.94               0  \n",
       "2             2011         20          0.00         0.00               1  \n",
       "3             2004         21          4.33        86.83               1  \n",
       "4             2006         60         26.80        28.99               0  \n",
       "...            ...        ...           ...          ...             ...  \n",
       "22794         2013         44         41.99        58.52               1  \n",
       "22795         2013        113        120.17        79.27               0  \n",
       "22796         1995         59          0.00        32.24               1  \n",
       "22797         2008         47        129.31        11.53               1  \n",
       "22798         2009         56         76.11         6.92               0  \n",
       "\n",
       "[22799 rows x 10 columns]"
      ]
     },
     "execution_count": 93,
     "metadata": {},
     "output_type": "execute_result"
    }
   ],
   "source": [
    "testdata_new"
   ]
  },
  {
   "cell_type": "code",
   "execution_count": 94,
   "metadata": {},
   "outputs": [],
   "source": [
    "min_max=MinMaxScaler()"
   ]
  },
  {
   "cell_type": "code",
   "execution_count": 95,
   "metadata": {},
   "outputs": [],
   "source": [
    "test_data_x=mms.fit_transform((testdata_new))\n"
   ]
  },
  {
   "cell_type": "code",
   "execution_count": 96,
   "metadata": {},
   "outputs": [
    {
     "data": {
      "text/html": [
       "<div>\n",
       "<style scoped>\n",
       "    .dataframe tbody tr th:only-of-type {\n",
       "        vertical-align: middle;\n",
       "    }\n",
       "\n",
       "    .dataframe tbody tr th {\n",
       "        vertical-align: top;\n",
       "    }\n",
       "\n",
       "    .dataframe thead th {\n",
       "        text-align: right;\n",
       "    }\n",
       "</style>\n",
       "<table border=\"1\" class=\"dataframe\">\n",
       "  <thead>\n",
       "    <tr style=\"text-align: right;\">\n",
       "      <th></th>\n",
       "      <th>SKU_number</th>\n",
       "      <th>ReleaseNumber</th>\n",
       "      <th>New_Release_Flag</th>\n",
       "      <th>StrengthFactor</th>\n",
       "      <th>PriceReg</th>\n",
       "      <th>ReleaseYear</th>\n",
       "      <th>ItemCount</th>\n",
       "      <th>LowUserPrice</th>\n",
       "      <th>LowNetPrice</th>\n",
       "      <th>Marketing_Type</th>\n",
       "    </tr>\n",
       "  </thead>\n",
       "  <tbody>\n",
       "    <tr>\n",
       "      <th>0</th>\n",
       "      <td>0.017015</td>\n",
       "      <td>0.026667</td>\n",
       "      <td>1.0</td>\n",
       "      <td>0.083488</td>\n",
       "      <td>0.058663</td>\n",
       "      <td>0.829268</td>\n",
       "      <td>0.016415</td>\n",
       "      <td>0.001623</td>\n",
       "      <td>0.001094</td>\n",
       "      <td>1.0</td>\n",
       "    </tr>\n",
       "    <tr>\n",
       "      <th>1</th>\n",
       "      <td>0.055202</td>\n",
       "      <td>0.080000</td>\n",
       "      <td>1.0</td>\n",
       "      <td>0.025374</td>\n",
       "      <td>0.026883</td>\n",
       "      <td>0.829268</td>\n",
       "      <td>0.033487</td>\n",
       "      <td>0.012767</td>\n",
       "      <td>0.002993</td>\n",
       "      <td>0.0</td>\n",
       "    </tr>\n",
       "    <tr>\n",
       "      <th>2</th>\n",
       "      <td>0.025748</td>\n",
       "      <td>0.013333</td>\n",
       "      <td>0.0</td>\n",
       "      <td>0.005689</td>\n",
       "      <td>0.040781</td>\n",
       "      <td>0.926829</td>\n",
       "      <td>0.013132</td>\n",
       "      <td>0.000000</td>\n",
       "      <td>0.000000</td>\n",
       "      <td>1.0</td>\n",
       "    </tr>\n",
       "    <tr>\n",
       "      <th>3</th>\n",
       "      <td>0.025893</td>\n",
       "      <td>0.066667</td>\n",
       "      <td>1.0</td>\n",
       "      <td>0.049538</td>\n",
       "      <td>0.089266</td>\n",
       "      <td>0.841463</td>\n",
       "      <td>0.013789</td>\n",
       "      <td>0.000433</td>\n",
       "      <td>0.008680</td>\n",
       "      <td>1.0</td>\n",
       "    </tr>\n",
       "    <tr>\n",
       "      <th>4</th>\n",
       "      <td>0.019691</td>\n",
       "      <td>0.026667</td>\n",
       "      <td>1.0</td>\n",
       "      <td>0.065020</td>\n",
       "      <td>0.031204</td>\n",
       "      <td>0.865854</td>\n",
       "      <td>0.039396</td>\n",
       "      <td>0.002679</td>\n",
       "      <td>0.002898</td>\n",
       "      <td>0.0</td>\n",
       "    </tr>\n",
       "    <tr>\n",
       "      <th>...</th>\n",
       "      <td>...</td>\n",
       "      <td>...</td>\n",
       "      <td>...</td>\n",
       "      <td>...</td>\n",
       "      <td>...</td>\n",
       "      <td>...</td>\n",
       "      <td>...</td>\n",
       "      <td>...</td>\n",
       "      <td>...</td>\n",
       "      <td>...</td>\n",
       "    </tr>\n",
       "    <tr>\n",
       "      <th>22794</th>\n",
       "      <td>0.161873</td>\n",
       "      <td>0.240000</td>\n",
       "      <td>1.0</td>\n",
       "      <td>0.001108</td>\n",
       "      <td>0.051366</td>\n",
       "      <td>0.951220</td>\n",
       "      <td>0.028890</td>\n",
       "      <td>0.004197</td>\n",
       "      <td>0.005850</td>\n",
       "      <td>1.0</td>\n",
       "    </tr>\n",
       "    <tr>\n",
       "      <th>22795</th>\n",
       "      <td>0.130400</td>\n",
       "      <td>0.133333</td>\n",
       "      <td>1.0</td>\n",
       "      <td>0.000603</td>\n",
       "      <td>0.122390</td>\n",
       "      <td>0.951220</td>\n",
       "      <td>0.074196</td>\n",
       "      <td>0.012012</td>\n",
       "      <td>0.007924</td>\n",
       "      <td>0.0</td>\n",
       "    </tr>\n",
       "    <tr>\n",
       "      <th>22796</th>\n",
       "      <td>0.620841</td>\n",
       "      <td>0.013333</td>\n",
       "      <td>0.0</td>\n",
       "      <td>0.048157</td>\n",
       "      <td>0.026403</td>\n",
       "      <td>0.731707</td>\n",
       "      <td>0.038739</td>\n",
       "      <td>0.000000</td>\n",
       "      <td>0.003223</td>\n",
       "      <td>1.0</td>\n",
       "    </tr>\n",
       "    <tr>\n",
       "      <th>22797</th>\n",
       "      <td>0.218129</td>\n",
       "      <td>0.053333</td>\n",
       "      <td>1.0</td>\n",
       "      <td>0.306014</td>\n",
       "      <td>0.005045</td>\n",
       "      <td>0.890244</td>\n",
       "      <td>0.030860</td>\n",
       "      <td>0.012926</td>\n",
       "      <td>0.001153</td>\n",
       "      <td>1.0</td>\n",
       "    </tr>\n",
       "    <tr>\n",
       "      <th>22798</th>\n",
       "      <td>0.015829</td>\n",
       "      <td>0.013333</td>\n",
       "      <td>0.0</td>\n",
       "      <td>0.124057</td>\n",
       "      <td>0.004681</td>\n",
       "      <td>0.902439</td>\n",
       "      <td>0.036770</td>\n",
       "      <td>0.007608</td>\n",
       "      <td>0.000692</td>\n",
       "      <td>0.0</td>\n",
       "    </tr>\n",
       "  </tbody>\n",
       "</table>\n",
       "<p>22799 rows × 10 columns</p>\n",
       "</div>"
      ],
      "text/plain": [
       "       SKU_number  ReleaseNumber  New_Release_Flag  StrengthFactor  PriceReg  \\\n",
       "0        0.017015       0.026667               1.0        0.083488  0.058663   \n",
       "1        0.055202       0.080000               1.0        0.025374  0.026883   \n",
       "2        0.025748       0.013333               0.0        0.005689  0.040781   \n",
       "3        0.025893       0.066667               1.0        0.049538  0.089266   \n",
       "4        0.019691       0.026667               1.0        0.065020  0.031204   \n",
       "...           ...            ...               ...             ...       ...   \n",
       "22794    0.161873       0.240000               1.0        0.001108  0.051366   \n",
       "22795    0.130400       0.133333               1.0        0.000603  0.122390   \n",
       "22796    0.620841       0.013333               0.0        0.048157  0.026403   \n",
       "22797    0.218129       0.053333               1.0        0.306014  0.005045   \n",
       "22798    0.015829       0.013333               0.0        0.124057  0.004681   \n",
       "\n",
       "       ReleaseYear  ItemCount  LowUserPrice  LowNetPrice  Marketing_Type  \n",
       "0         0.829268   0.016415      0.001623     0.001094             1.0  \n",
       "1         0.829268   0.033487      0.012767     0.002993             0.0  \n",
       "2         0.926829   0.013132      0.000000     0.000000             1.0  \n",
       "3         0.841463   0.013789      0.000433     0.008680             1.0  \n",
       "4         0.865854   0.039396      0.002679     0.002898             0.0  \n",
       "...            ...        ...           ...          ...             ...  \n",
       "22794     0.951220   0.028890      0.004197     0.005850             1.0  \n",
       "22795     0.951220   0.074196      0.012012     0.007924             0.0  \n",
       "22796     0.731707   0.038739      0.000000     0.003223             1.0  \n",
       "22797     0.890244   0.030860      0.012926     0.001153             1.0  \n",
       "22798     0.902439   0.036770      0.007608     0.000692             0.0  \n",
       "\n",
       "[22799 rows x 10 columns]"
      ]
     },
     "execution_count": 96,
     "metadata": {},
     "output_type": "execute_result"
    }
   ],
   "source": [
    "test_data_N=pd.DataFrame(test_data_x,columns=testdata_new.columns)\n",
    "test_data_N"
   ]
  },
  {
   "cell_type": "markdown",
   "metadata": {},
   "source": [
    "## Predictions"
   ]
  },
  {
   "cell_type": "markdown",
   "metadata": {},
   "source": [
    "## Logistic model"
   ]
  },
  {
   "cell_type": "code",
   "execution_count": 97,
   "metadata": {},
   "outputs": [],
   "source": [
    "prediction_lr =model_lg.predict(test_data_N)\n",
    "test_pred_lg = pd.DataFrame({'SKU_Id':test_data_N.SKU_number ,'soldtag':prediction_lr})\n"
   ]
  },
  {
   "cell_type": "code",
   "execution_count": 100,
   "metadata": {},
   "outputs": [
    {
     "data": {
      "text/html": [
       "<div>\n",
       "<style scoped>\n",
       "    .dataframe tbody tr th:only-of-type {\n",
       "        vertical-align: middle;\n",
       "    }\n",
       "\n",
       "    .dataframe tbody tr th {\n",
       "        vertical-align: top;\n",
       "    }\n",
       "\n",
       "    .dataframe thead th {\n",
       "        text-align: right;\n",
       "    }\n",
       "</style>\n",
       "<table border=\"1\" class=\"dataframe\">\n",
       "  <thead>\n",
       "    <tr style=\"text-align: right;\">\n",
       "      <th></th>\n",
       "      <th>SKU_Id</th>\n",
       "      <th>soldtag</th>\n",
       "    </tr>\n",
       "  </thead>\n",
       "  <tbody>\n",
       "    <tr>\n",
       "      <th>0</th>\n",
       "      <td>0.017015</td>\n",
       "      <td>0</td>\n",
       "    </tr>\n",
       "    <tr>\n",
       "      <th>1</th>\n",
       "      <td>0.055202</td>\n",
       "      <td>0</td>\n",
       "    </tr>\n",
       "    <tr>\n",
       "      <th>2</th>\n",
       "      <td>0.025748</td>\n",
       "      <td>0</td>\n",
       "    </tr>\n",
       "    <tr>\n",
       "      <th>3</th>\n",
       "      <td>0.025893</td>\n",
       "      <td>0</td>\n",
       "    </tr>\n",
       "    <tr>\n",
       "      <th>4</th>\n",
       "      <td>0.019691</td>\n",
       "      <td>0</td>\n",
       "    </tr>\n",
       "    <tr>\n",
       "      <th>...</th>\n",
       "      <td>...</td>\n",
       "      <td>...</td>\n",
       "    </tr>\n",
       "    <tr>\n",
       "      <th>22794</th>\n",
       "      <td>0.161873</td>\n",
       "      <td>0</td>\n",
       "    </tr>\n",
       "    <tr>\n",
       "      <th>22795</th>\n",
       "      <td>0.130400</td>\n",
       "      <td>1</td>\n",
       "    </tr>\n",
       "    <tr>\n",
       "      <th>22796</th>\n",
       "      <td>0.620841</td>\n",
       "      <td>0</td>\n",
       "    </tr>\n",
       "    <tr>\n",
       "      <th>22797</th>\n",
       "      <td>0.218129</td>\n",
       "      <td>0</td>\n",
       "    </tr>\n",
       "    <tr>\n",
       "      <th>22798</th>\n",
       "      <td>0.015829</td>\n",
       "      <td>0</td>\n",
       "    </tr>\n",
       "  </tbody>\n",
       "</table>\n",
       "<p>22799 rows × 2 columns</p>\n",
       "</div>"
      ],
      "text/plain": [
       "         SKU_Id  soldtag\n",
       "0      0.017015        0\n",
       "1      0.055202        0\n",
       "2      0.025748        0\n",
       "3      0.025893        0\n",
       "4      0.019691        0\n",
       "...         ...      ...\n",
       "22794  0.161873        0\n",
       "22795  0.130400        1\n",
       "22796  0.620841        0\n",
       "22797  0.218129        0\n",
       "22798  0.015829        0\n",
       "\n",
       "[22799 rows x 2 columns]"
      ]
     },
     "execution_count": 100,
     "metadata": {},
     "output_type": "execute_result"
    }
   ],
   "source": [
    "test_pred_lg\n",
    "test_pred_lg.to_csv('test_pred_lg.csv', index = False)"
   ]
  },
  {
   "cell_type": "markdown",
   "metadata": {},
   "source": [
    "## 2.Decision Tree "
   ]
  },
  {
   "cell_type": "code",
   "execution_count": 101,
   "metadata": {},
   "outputs": [
    {
     "data": {
      "text/plain": [
       "DecisionTreeClassifier()"
      ]
     },
     "execution_count": 101,
     "metadata": {},
     "output_type": "execute_result"
    }
   ],
   "source": [
    "model_dt\n",
    "prediction_dt =model_dt.predict(test_data_N)\n",
    "test_pred_dt = pd.DataFrame({'SKU_Id':test_data_N.SKU_number ,'soldtag':prediction_dt})\n"
   ]
  },
  {
   "cell_type": "code",
   "execution_count": 102,
   "metadata": {},
   "outputs": [
    {
     "data": {
      "text/html": [
       "<div>\n",
       "<style scoped>\n",
       "    .dataframe tbody tr th:only-of-type {\n",
       "        vertical-align: middle;\n",
       "    }\n",
       "\n",
       "    .dataframe tbody tr th {\n",
       "        vertical-align: top;\n",
       "    }\n",
       "\n",
       "    .dataframe thead th {\n",
       "        text-align: right;\n",
       "    }\n",
       "</style>\n",
       "<table border=\"1\" class=\"dataframe\">\n",
       "  <thead>\n",
       "    <tr style=\"text-align: right;\">\n",
       "      <th></th>\n",
       "      <th>SKU_Id</th>\n",
       "      <th>soldtag</th>\n",
       "    </tr>\n",
       "  </thead>\n",
       "  <tbody>\n",
       "    <tr>\n",
       "      <th>0</th>\n",
       "      <td>0.017015</td>\n",
       "      <td>0</td>\n",
       "    </tr>\n",
       "    <tr>\n",
       "      <th>1</th>\n",
       "      <td>0.055202</td>\n",
       "      <td>0</td>\n",
       "    </tr>\n",
       "    <tr>\n",
       "      <th>2</th>\n",
       "      <td>0.025748</td>\n",
       "      <td>1</td>\n",
       "    </tr>\n",
       "    <tr>\n",
       "      <th>3</th>\n",
       "      <td>0.025893</td>\n",
       "      <td>0</td>\n",
       "    </tr>\n",
       "    <tr>\n",
       "      <th>4</th>\n",
       "      <td>0.019691</td>\n",
       "      <td>0</td>\n",
       "    </tr>\n",
       "    <tr>\n",
       "      <th>...</th>\n",
       "      <td>...</td>\n",
       "      <td>...</td>\n",
       "    </tr>\n",
       "    <tr>\n",
       "      <th>22794</th>\n",
       "      <td>0.161873</td>\n",
       "      <td>1</td>\n",
       "    </tr>\n",
       "    <tr>\n",
       "      <th>22795</th>\n",
       "      <td>0.130400</td>\n",
       "      <td>1</td>\n",
       "    </tr>\n",
       "    <tr>\n",
       "      <th>22796</th>\n",
       "      <td>0.620841</td>\n",
       "      <td>0</td>\n",
       "    </tr>\n",
       "    <tr>\n",
       "      <th>22797</th>\n",
       "      <td>0.218129</td>\n",
       "      <td>0</td>\n",
       "    </tr>\n",
       "    <tr>\n",
       "      <th>22798</th>\n",
       "      <td>0.015829</td>\n",
       "      <td>0</td>\n",
       "    </tr>\n",
       "  </tbody>\n",
       "</table>\n",
       "<p>22799 rows × 2 columns</p>\n",
       "</div>"
      ],
      "text/plain": [
       "         SKU_Id  soldtag\n",
       "0      0.017015        0\n",
       "1      0.055202        0\n",
       "2      0.025748        1\n",
       "3      0.025893        0\n",
       "4      0.019691        0\n",
       "...         ...      ...\n",
       "22794  0.161873        1\n",
       "22795  0.130400        1\n",
       "22796  0.620841        0\n",
       "22797  0.218129        0\n",
       "22798  0.015829        0\n",
       "\n",
       "[22799 rows x 2 columns]"
      ]
     },
     "execution_count": 102,
     "metadata": {},
     "output_type": "execute_result"
    }
   ],
   "source": [
    "test_pred_dt\n",
    "test_pred_dt.to_csv('test_pred_dt.csv', index = False)"
   ]
  },
  {
   "cell_type": "markdown",
   "metadata": {},
   "source": [
    "## 3. RandomForest"
   ]
  },
  {
   "cell_type": "code",
   "execution_count": 103,
   "metadata": {},
   "outputs": [],
   "source": [
    "prediction_rf =mod_rf.predict(test_data_N)\n",
    "test_pred_rf = pd.DataFrame({'SKU_Id':test_data_N.SKU_number ,'soldtag':prediction_rf})\n"
   ]
  },
  {
   "cell_type": "code",
   "execution_count": 104,
   "metadata": {},
   "outputs": [
    {
     "data": {
      "text/html": [
       "<div>\n",
       "<style scoped>\n",
       "    .dataframe tbody tr th:only-of-type {\n",
       "        vertical-align: middle;\n",
       "    }\n",
       "\n",
       "    .dataframe tbody tr th {\n",
       "        vertical-align: top;\n",
       "    }\n",
       "\n",
       "    .dataframe thead th {\n",
       "        text-align: right;\n",
       "    }\n",
       "</style>\n",
       "<table border=\"1\" class=\"dataframe\">\n",
       "  <thead>\n",
       "    <tr style=\"text-align: right;\">\n",
       "      <th></th>\n",
       "      <th>SKU_Id</th>\n",
       "      <th>soldtag</th>\n",
       "    </tr>\n",
       "  </thead>\n",
       "  <tbody>\n",
       "    <tr>\n",
       "      <th>0</th>\n",
       "      <td>0.017015</td>\n",
       "      <td>0</td>\n",
       "    </tr>\n",
       "    <tr>\n",
       "      <th>1</th>\n",
       "      <td>0.055202</td>\n",
       "      <td>0</td>\n",
       "    </tr>\n",
       "    <tr>\n",
       "      <th>2</th>\n",
       "      <td>0.025748</td>\n",
       "      <td>0</td>\n",
       "    </tr>\n",
       "    <tr>\n",
       "      <th>3</th>\n",
       "      <td>0.025893</td>\n",
       "      <td>0</td>\n",
       "    </tr>\n",
       "    <tr>\n",
       "      <th>4</th>\n",
       "      <td>0.019691</td>\n",
       "      <td>0</td>\n",
       "    </tr>\n",
       "    <tr>\n",
       "      <th>...</th>\n",
       "      <td>...</td>\n",
       "      <td>...</td>\n",
       "    </tr>\n",
       "    <tr>\n",
       "      <th>22794</th>\n",
       "      <td>0.161873</td>\n",
       "      <td>0</td>\n",
       "    </tr>\n",
       "    <tr>\n",
       "      <th>22795</th>\n",
       "      <td>0.130400</td>\n",
       "      <td>1</td>\n",
       "    </tr>\n",
       "    <tr>\n",
       "      <th>22796</th>\n",
       "      <td>0.620841</td>\n",
       "      <td>0</td>\n",
       "    </tr>\n",
       "    <tr>\n",
       "      <th>22797</th>\n",
       "      <td>0.218129</td>\n",
       "      <td>0</td>\n",
       "    </tr>\n",
       "    <tr>\n",
       "      <th>22798</th>\n",
       "      <td>0.015829</td>\n",
       "      <td>0</td>\n",
       "    </tr>\n",
       "  </tbody>\n",
       "</table>\n",
       "<p>22799 rows × 2 columns</p>\n",
       "</div>"
      ],
      "text/plain": [
       "         SKU_Id  soldtag\n",
       "0      0.017015        0\n",
       "1      0.055202        0\n",
       "2      0.025748        0\n",
       "3      0.025893        0\n",
       "4      0.019691        0\n",
       "...         ...      ...\n",
       "22794  0.161873        0\n",
       "22795  0.130400        1\n",
       "22796  0.620841        0\n",
       "22797  0.218129        0\n",
       "22798  0.015829        0\n",
       "\n",
       "[22799 rows x 2 columns]"
      ]
     },
     "execution_count": 104,
     "metadata": {},
     "output_type": "execute_result"
    }
   ],
   "source": [
    "test_pred_rf\n",
    "test_pred_rf.to_csv('test_pred_rf.csv', index = False)"
   ]
  },
  {
   "cell_type": "markdown",
   "metadata": {},
   "source": [
    "## 4. ADA Boosting"
   ]
  },
  {
   "cell_type": "code",
   "execution_count": 105,
   "metadata": {},
   "outputs": [],
   "source": [
    "prediction_ada =mod_ada.predict(test_data_N)\n",
    "test_pred_ada = pd.DataFrame({'SKU_Id':test_data_N.SKU_number ,'soldtag':prediction_ada})\n"
   ]
  },
  {
   "cell_type": "code",
   "execution_count": 106,
   "metadata": {},
   "outputs": [
    {
     "data": {
      "text/html": [
       "<div>\n",
       "<style scoped>\n",
       "    .dataframe tbody tr th:only-of-type {\n",
       "        vertical-align: middle;\n",
       "    }\n",
       "\n",
       "    .dataframe tbody tr th {\n",
       "        vertical-align: top;\n",
       "    }\n",
       "\n",
       "    .dataframe thead th {\n",
       "        text-align: right;\n",
       "    }\n",
       "</style>\n",
       "<table border=\"1\" class=\"dataframe\">\n",
       "  <thead>\n",
       "    <tr style=\"text-align: right;\">\n",
       "      <th></th>\n",
       "      <th>SKU_Id</th>\n",
       "      <th>soldtag</th>\n",
       "    </tr>\n",
       "  </thead>\n",
       "  <tbody>\n",
       "    <tr>\n",
       "      <th>0</th>\n",
       "      <td>0.017015</td>\n",
       "      <td>0</td>\n",
       "    </tr>\n",
       "    <tr>\n",
       "      <th>1</th>\n",
       "      <td>0.055202</td>\n",
       "      <td>0</td>\n",
       "    </tr>\n",
       "    <tr>\n",
       "      <th>2</th>\n",
       "      <td>0.025748</td>\n",
       "      <td>0</td>\n",
       "    </tr>\n",
       "    <tr>\n",
       "      <th>3</th>\n",
       "      <td>0.025893</td>\n",
       "      <td>0</td>\n",
       "    </tr>\n",
       "    <tr>\n",
       "      <th>4</th>\n",
       "      <td>0.019691</td>\n",
       "      <td>0</td>\n",
       "    </tr>\n",
       "    <tr>\n",
       "      <th>...</th>\n",
       "      <td>...</td>\n",
       "      <td>...</td>\n",
       "    </tr>\n",
       "    <tr>\n",
       "      <th>22794</th>\n",
       "      <td>0.161873</td>\n",
       "      <td>0</td>\n",
       "    </tr>\n",
       "    <tr>\n",
       "      <th>22795</th>\n",
       "      <td>0.130400</td>\n",
       "      <td>1</td>\n",
       "    </tr>\n",
       "    <tr>\n",
       "      <th>22796</th>\n",
       "      <td>0.620841</td>\n",
       "      <td>0</td>\n",
       "    </tr>\n",
       "    <tr>\n",
       "      <th>22797</th>\n",
       "      <td>0.218129</td>\n",
       "      <td>0</td>\n",
       "    </tr>\n",
       "    <tr>\n",
       "      <th>22798</th>\n",
       "      <td>0.015829</td>\n",
       "      <td>0</td>\n",
       "    </tr>\n",
       "  </tbody>\n",
       "</table>\n",
       "<p>22799 rows × 2 columns</p>\n",
       "</div>"
      ],
      "text/plain": [
       "         SKU_Id  soldtag\n",
       "0      0.017015        0\n",
       "1      0.055202        0\n",
       "2      0.025748        0\n",
       "3      0.025893        0\n",
       "4      0.019691        0\n",
       "...         ...      ...\n",
       "22794  0.161873        0\n",
       "22795  0.130400        1\n",
       "22796  0.620841        0\n",
       "22797  0.218129        0\n",
       "22798  0.015829        0\n",
       "\n",
       "[22799 rows x 2 columns]"
      ]
     },
     "execution_count": 106,
     "metadata": {},
     "output_type": "execute_result"
    }
   ],
   "source": [
    "test_pred_ada\n",
    "test_pred_ada.to_csv('test_pred_ada.csv', index = False)"
   ]
  },
  {
   "cell_type": "markdown",
   "metadata": {},
   "source": [
    "## 5. SVM"
   ]
  },
  {
   "cell_type": "code",
   "execution_count": 107,
   "metadata": {},
   "outputs": [],
   "source": [
    "prediction_svm =mod_svm.predict(test_data_N)\n",
    "test_pred_svm = pd.DataFrame({'SKU_Id':test_data_N.SKU_number ,'soldtag':prediction_svm})\n"
   ]
  },
  {
   "cell_type": "code",
   "execution_count": 108,
   "metadata": {},
   "outputs": [
    {
     "data": {
      "text/html": [
       "<div>\n",
       "<style scoped>\n",
       "    .dataframe tbody tr th:only-of-type {\n",
       "        vertical-align: middle;\n",
       "    }\n",
       "\n",
       "    .dataframe tbody tr th {\n",
       "        vertical-align: top;\n",
       "    }\n",
       "\n",
       "    .dataframe thead th {\n",
       "        text-align: right;\n",
       "    }\n",
       "</style>\n",
       "<table border=\"1\" class=\"dataframe\">\n",
       "  <thead>\n",
       "    <tr style=\"text-align: right;\">\n",
       "      <th></th>\n",
       "      <th>SKU_Id</th>\n",
       "      <th>soldtag</th>\n",
       "    </tr>\n",
       "  </thead>\n",
       "  <tbody>\n",
       "    <tr>\n",
       "      <th>0</th>\n",
       "      <td>0.017015</td>\n",
       "      <td>0</td>\n",
       "    </tr>\n",
       "    <tr>\n",
       "      <th>1</th>\n",
       "      <td>0.055202</td>\n",
       "      <td>0</td>\n",
       "    </tr>\n",
       "    <tr>\n",
       "      <th>2</th>\n",
       "      <td>0.025748</td>\n",
       "      <td>0</td>\n",
       "    </tr>\n",
       "    <tr>\n",
       "      <th>3</th>\n",
       "      <td>0.025893</td>\n",
       "      <td>0</td>\n",
       "    </tr>\n",
       "    <tr>\n",
       "      <th>4</th>\n",
       "      <td>0.019691</td>\n",
       "      <td>0</td>\n",
       "    </tr>\n",
       "    <tr>\n",
       "      <th>...</th>\n",
       "      <td>...</td>\n",
       "      <td>...</td>\n",
       "    </tr>\n",
       "    <tr>\n",
       "      <th>22794</th>\n",
       "      <td>0.161873</td>\n",
       "      <td>0</td>\n",
       "    </tr>\n",
       "    <tr>\n",
       "      <th>22795</th>\n",
       "      <td>0.130400</td>\n",
       "      <td>0</td>\n",
       "    </tr>\n",
       "    <tr>\n",
       "      <th>22796</th>\n",
       "      <td>0.620841</td>\n",
       "      <td>0</td>\n",
       "    </tr>\n",
       "    <tr>\n",
       "      <th>22797</th>\n",
       "      <td>0.218129</td>\n",
       "      <td>0</td>\n",
       "    </tr>\n",
       "    <tr>\n",
       "      <th>22798</th>\n",
       "      <td>0.015829</td>\n",
       "      <td>0</td>\n",
       "    </tr>\n",
       "  </tbody>\n",
       "</table>\n",
       "<p>22799 rows × 2 columns</p>\n",
       "</div>"
      ],
      "text/plain": [
       "         SKU_Id  soldtag\n",
       "0      0.017015        0\n",
       "1      0.055202        0\n",
       "2      0.025748        0\n",
       "3      0.025893        0\n",
       "4      0.019691        0\n",
       "...         ...      ...\n",
       "22794  0.161873        0\n",
       "22795  0.130400        0\n",
       "22796  0.620841        0\n",
       "22797  0.218129        0\n",
       "22798  0.015829        0\n",
       "\n",
       "[22799 rows x 2 columns]"
      ]
     },
     "execution_count": 108,
     "metadata": {},
     "output_type": "execute_result"
    }
   ],
   "source": [
    "test_pred_svm\n",
    "test_pred_svm.to_csv('test_pred_svm.csv', index = False)"
   ]
  },
  {
   "cell_type": "code",
   "execution_count": 109,
   "metadata": {},
   "outputs": [
    {
     "data": {
      "text/plain": [
       "array([0], dtype=int64)"
      ]
     },
     "execution_count": 109,
     "metadata": {},
     "output_type": "execute_result"
    }
   ],
   "source": [
    "test_pred_svm[\"soldtag\"].unique()"
   ]
  },
  {
   "cell_type": "code",
   "execution_count": 110,
   "metadata": {},
   "outputs": [
    {
     "ename": "SyntaxError",
     "evalue": "invalid syntax (<ipython-input-110-e136cec8a04b>, line 1)",
     "output_type": "error",
     "traceback": [
      "\u001b[1;36m  File \u001b[1;32m\"<ipython-input-110-e136cec8a04b>\"\u001b[1;36m, line \u001b[1;32m1\u001b[0m\n\u001b[1;33m    Conclusion:\u001b[0m\n\u001b[1;37m               ^\u001b[0m\n\u001b[1;31mSyntaxError\u001b[0m\u001b[1;31m:\u001b[0m invalid syntax\n"
     ]
    }
   ],
   "source": [
    "Conclusion:\n",
    "    I recomend using Logistic Regression because it is giving highest accuracy,precision and Recall , which means our"
   ]
  },
  {
   "cell_type": "code",
   "execution_count": null,
   "metadata": {},
   "outputs": [],
   "source": []
  }
 ],
 "metadata": {
  "kernelspec": {
   "display_name": "Python 3",
   "language": "python",
   "name": "python3"
  },
  "language_info": {
   "codemirror_mode": {
    "name": "ipython",
    "version": 3
   },
   "file_extension": ".py",
   "mimetype": "text/x-python",
   "name": "python",
   "nbconvert_exporter": "python",
   "pygments_lexer": "ipython3",
   "version": "3.8.3"
  }
 },
 "nbformat": 4,
 "nbformat_minor": 2
}
